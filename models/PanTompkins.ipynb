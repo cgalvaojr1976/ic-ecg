{
 "cells": [
  {
   "cell_type": "markdown",
   "id": "620bb7ae",
   "metadata": {},
   "source": [
    "# Algoritmo PanTompkins\n",
    "Algoritmo implementado para detectar a ocorrência do pico QRS em um sinal ECG. Foi desenvolvido por Jiapu Pan e Willis J. Tompkins em 1985 e publicado no journal \"IEEE Transactions on Biomedical Engineering\".\n",
    "<br>\n",
    "<p align=\"center\">\n",
    "<img src=\"pantompkins.png\" height=\"250\" width=\"800\">\n",
    "</p>"
   ]
  },
  {
   "cell_type": "code",
   "execution_count": 1,
   "id": "5a579978",
   "metadata": {},
   "outputs": [],
   "source": [
    "import numpy as np\n",
    "import wfdb\n",
    "import matplotlib.pyplot as plt"
   ]
  },
  {
   "cell_type": "markdown",
   "id": "ce578558",
   "metadata": {},
   "source": [
    "## Carregar o sinal\n",
    "\n",
    "O sinal utiliziado nesse notebook foi na frequência de 1kHz, diferente do original de 200Hz."
   ]
  },
  {
   "cell_type": "code",
   "execution_count": 28,
   "id": "b25b783c",
   "metadata": {},
   "outputs": [],
   "source": [
    "record, fields = wfdb.rdsamp(\"database_part/s0004_re\", channels=[0])"
   ]
  },
  {
   "cell_type": "code",
   "execution_count": 79,
   "id": "7dd05858",
   "metadata": {},
   "outputs": [
    {
     "data": {
      "text/plain": [
       "{'fs': 1000,\n",
       " 'sig_len': 38400,\n",
       " 'n_sig': 1,\n",
       " 'base_date': None,\n",
       " 'base_time': None,\n",
       " 'units': ['mV'],\n",
       " 'sig_name': ['i'],\n",
       " 'comments': ['age: 79',\n",
       "  'sex: female',\n",
       "  'ECG date: 14/08/1990',\n",
       "  'Diagnose:',\n",
       "  'Reason for admission: Myocardial infarction',\n",
       "  'Acute infarction (localization): infero-postero-lateral',\n",
       "  'Former infarction (localization): no',\n",
       "  'Additional diagnoses: Diabetes mellitus',\n",
       "  'Smoker: no',\n",
       "  'Number of coronary vessels involved: 1',\n",
       "  'Infarction date (acute): 10-Aug-90',\n",
       "  'Previous infarction (1) date: n/a',\n",
       "  'Previous infarction (2) date: n/a',\n",
       "  'Hemodynamics:',\n",
       "  'Catheterization date: n/a',\n",
       "  'Ventriculography: n/a',\n",
       "  'Chest X-ray: n/a',\n",
       "  'Peripheral blood Pressure (syst/diast): n/a',\n",
       "  'Pulmonary artery pressure (at rest) (syst/diast): n/a',\n",
       "  'Pulmonary artery pressure (at rest) (mean): n/a',\n",
       "  'Pulmonary capillary wedge pressure (at rest): n/a',\n",
       "  'Cardiac output (at rest): n/a',\n",
       "  'Cardiac index (at rest): n/a',\n",
       "  'Stroke volume index (at rest): n/a',\n",
       "  'Pulmonary artery pressure (laod) (syst/diast): n/a',\n",
       "  'Pulmonary artery pressure (laod) (mean): n/a',\n",
       "  'Pulmonary capillary wedge pressure (load): n/a',\n",
       "  'Cardiac output (load): n/a',\n",
       "  'Cardiac index (load): n/a',\n",
       "  'Stroke volume index (load): n/a',\n",
       "  'Aorta (at rest) (syst/diast): n/a',\n",
       "  'Aorta (at rest) mean: n/a',\n",
       "  'Left ventricular enddiastolic pressure: n/a',\n",
       "  'Left coronary artery stenoses (RIVA): n/a',\n",
       "  'Left coronary artery stenoses (RCX): n/a',\n",
       "  'Right coronary artery stenoses (RCA): n/a',\n",
       "  'Echocardiography: n/a',\n",
       "  'Therapy:',\n",
       "  'Infarction date: 10-Aug-90',\n",
       "  'Catheterization date: n/a',\n",
       "  'Admission date: n/a',\n",
       "  'Medication pre admission: n/a',\n",
       "  'Start lysis therapy (hh.mm): n/a',\n",
       "  'Lytic agent: n/a',\n",
       "  'Dosage (lytic agent): n/a',\n",
       "  'Additional medication: n/a',\n",
       "  'In hospital medication: n/a',\n",
       "  'Medication after discharge: n/a']}"
      ]
     },
     "metadata": {},
     "output_type": "display_data"
    }
   ],
   "source": [
    "display(fields)"
   ]
  },
  {
   "cell_type": "markdown",
   "id": "f7d79dae",
   "metadata": {},
   "source": [
    "Plotar os dados"
   ]
  },
  {
   "cell_type": "code",
   "execution_count": 7,
   "id": "ca5eebf6",
   "metadata": {},
   "outputs": [
    {
     "data": {
      "text/plain": [
       "[<matplotlib.lines.Line2D at 0x7f3ce8adf9a0>]"
      ]
     },
     "execution_count": 7,
     "metadata": {},
     "output_type": "execute_result"
    },
    {
     "data": {
      "image/png": "[encoded data removed]",
      "text/plain": [
       "<Figure size 720x360 with 1 Axes>"
      ]
     },
     "metadata": {
      "needs_background": "light"
     },
     "output_type": "display_data"
    }
   ],
   "source": [
    "tamanho = np.linspace(0, len(record), num = len(record))\n",
    "plt.figure(figsize=(10,5))\n",
    "plt.xlabel(xlabel=\"Time(ms)\")\n",
    "plt.ylabel(ylabel=\"Amplitude\")\n",
    "plt.plot(tamanho[0:1200], record[0:1200])"
   ]
  },
  {
   "cell_type": "markdown",
   "id": "6d4ccba0",
   "metadata": {},
   "source": [
    "## Filtro Passa Faixa\n",
    "De acordo com o artigo de Pan, J., & Tompkins, deseja-se um filtro passa faixa entre 5 e 15 Hz. Isso porque é onde maximiza a energia do intervalo QRS.\n",
    "\n",
    "### Filtro Passa Baixa\n",
    "\n",
    "Função de transferência do filtro passa baixa:\n",
    "<br>\n",
    "\n",
    "$$H(z) = \\frac{1}{32}\\frac{(1 - z^{-6})^2}{(1 - z^{-1})^2}$$\n",
    "<br>\n",
    "\n",
    "Equação da diferença:\n",
    "$$y(n) = 2y(n - 1) - y(n - 2) + \\frac{1}{32}[x(n) - 2x(n - 6) + x(n - 12)]$$"
   ]
  },
  {
   "cell_type": "code",
   "execution_count": 8,
   "id": "a13e0556",
   "metadata": {},
   "outputs": [
    {
     "data": {
      "text/plain": [
       "numpy.ndarray"
      ]
     },
     "execution_count": 8,
     "metadata": {},
     "output_type": "execute_result"
    }
   ],
   "source": [
    "type(record)"
   ]
  },
  {
   "cell_type": "code",
   "execution_count": 25,
   "id": "c9f918cd",
   "metadata": {},
   "outputs": [],
   "source": [
    "def pass_baixa(sinal):\n",
    "    lowpass = np.zeros(len(sinal)+1)\n",
    "    for i in range(12, len(lowpass)-2):\n",
    "        lowpass[i] = 2*lowpass[i+1] - lowpass[i-2] + (1/32*(sinal[i] - 2*sinal[i-6] + sinal[i-12]))\n",
    "    return lowpass \n"
   ]
  },
  {
   "cell_type": "code",
   "execution_count": 27,
   "id": "23945f92",
   "metadata": {},
   "outputs": [
    {
     "ename": "TypeError",
     "evalue": "object of type 'numpy.float64' has no len()",
     "output_type": "error",
     "traceback": [
      "\u001b[0;31m---------------------------------------------------------------------------\u001b[0m",
      "\u001b[0;31mTypeError\u001b[0m                                 Traceback (most recent call last)",
      "\u001b[0;32m/tmp/ipykernel_15891/299364671.py\u001b[0m in \u001b[0;36m<module>\u001b[0;34m\u001b[0m\n\u001b[0;32m----> 1\u001b[0;31m \u001b[0mteste_passab\u001b[0m \u001b[0;34m=\u001b[0m \u001b[0mpass_baixa\u001b[0m\u001b[0;34m(\u001b[0m\u001b[0mrecord\u001b[0m\u001b[0;34m)\u001b[0m\u001b[0;34m\u001b[0m\u001b[0;34m\u001b[0m\u001b[0m\n\u001b[0m\u001b[1;32m      2\u001b[0m \u001b[0mplt\u001b[0m\u001b[0;34m.\u001b[0m\u001b[0mfigure\u001b[0m\u001b[0;34m(\u001b[0m\u001b[0mfigsize\u001b[0m\u001b[0;34m=\u001b[0m\u001b[0;34m(\u001b[0m\u001b[0;36m10\u001b[0m\u001b[0;34m,\u001b[0m\u001b[0;36m5\u001b[0m\u001b[0;34m)\u001b[0m\u001b[0;34m)\u001b[0m\u001b[0;34m\u001b[0m\u001b[0;34m\u001b[0m\u001b[0m\n\u001b[1;32m      3\u001b[0m \u001b[0mplt\u001b[0m\u001b[0;34m.\u001b[0m\u001b[0mxlabel\u001b[0m\u001b[0;34m(\u001b[0m\u001b[0mxlabel\u001b[0m\u001b[0;34m=\u001b[0m\u001b[0;34m\"Time(ms)\"\u001b[0m\u001b[0;34m)\u001b[0m\u001b[0;34m\u001b[0m\u001b[0;34m\u001b[0m\u001b[0m\n\u001b[1;32m      4\u001b[0m \u001b[0mplt\u001b[0m\u001b[0;34m.\u001b[0m\u001b[0mylabel\u001b[0m\u001b[0;34m(\u001b[0m\u001b[0mylabel\u001b[0m\u001b[0;34m=\u001b[0m\u001b[0;34m\"Amplitude\"\u001b[0m\u001b[0;34m)\u001b[0m\u001b[0;34m\u001b[0m\u001b[0;34m\u001b[0m\u001b[0m\n\u001b[1;32m      5\u001b[0m \u001b[0mplt\u001b[0m\u001b[0;34m.\u001b[0m\u001b[0mplot\u001b[0m\u001b[0;34m(\u001b[0m\u001b[0mtamanho\u001b[0m\u001b[0;34m[\u001b[0m\u001b[0;36m0\u001b[0m\u001b[0;34m:\u001b[0m\u001b[0;36m1200\u001b[0m\u001b[0;34m]\u001b[0m\u001b[0;34m,\u001b[0m \u001b[0mteste_passab\u001b[0m\u001b[0;34m[\u001b[0m\u001b[0;36m0\u001b[0m\u001b[0;34m:\u001b[0m\u001b[0;36m1200\u001b[0m\u001b[0;34m]\u001b[0m\u001b[0;34m)\u001b[0m\u001b[0;34m\u001b[0m\u001b[0;34m\u001b[0m\u001b[0m\n",
      "\u001b[0;32m/tmp/ipykernel_15891/3799654308.py\u001b[0m in \u001b[0;36mpass_baixa\u001b[0;34m(sinal)\u001b[0m\n\u001b[1;32m      2\u001b[0m     \u001b[0mlowpass\u001b[0m \u001b[0;34m=\u001b[0m \u001b[0mnp\u001b[0m\u001b[0;34m.\u001b[0m\u001b[0mzeros\u001b[0m\u001b[0;34m(\u001b[0m\u001b[0mlen\u001b[0m\u001b[0;34m(\u001b[0m\u001b[0msinal\u001b[0m\u001b[0;34m)\u001b[0m\u001b[0;34m)\u001b[0m\u001b[0;34m\u001b[0m\u001b[0;34m\u001b[0m\u001b[0m\n\u001b[1;32m      3\u001b[0m     \u001b[0;32mfor\u001b[0m \u001b[0mi\u001b[0m \u001b[0;32min\u001b[0m \u001b[0mrange\u001b[0m\u001b[0;34m(\u001b[0m\u001b[0;36m13\u001b[0m\u001b[0;34m,\u001b[0m\u001b[0mlen\u001b[0m\u001b[0;34m(\u001b[0m\u001b[0msinal\u001b[0m\u001b[0;34m)\u001b[0m\u001b[0;34m-\u001b[0m\u001b[0;36m1\u001b[0m\u001b[0;34m)\u001b[0m\u001b[0;34m:\u001b[0m\u001b[0;34m\u001b[0m\u001b[0;34m\u001b[0m\u001b[0m\n\u001b[0;32m----> 4\u001b[0;31m         \u001b[0mlowpass\u001b[0m\u001b[0;34m[\u001b[0m\u001b[0mi\u001b[0m\u001b[0;34m]\u001b[0m \u001b[0;34m=\u001b[0m \u001b[0;36m2\u001b[0m\u001b[0;34m*\u001b[0m\u001b[0mpass_baixa\u001b[0m\u001b[0;34m(\u001b[0m\u001b[0mlowpass\u001b[0m\u001b[0;34m[\u001b[0m\u001b[0mi\u001b[0m\u001b[0;34m-\u001b[0m\u001b[0;36m1\u001b[0m\u001b[0;34m]\u001b[0m\u001b[0;34m)\u001b[0m \u001b[0;34m-\u001b[0m \u001b[0mpass_baixa\u001b[0m\u001b[0;34m(\u001b[0m\u001b[0mlowpass\u001b[0m\u001b[0;34m[\u001b[0m\u001b[0mi\u001b[0m\u001b[0;34m-\u001b[0m\u001b[0;36m2\u001b[0m\u001b[0;34m]\u001b[0m\u001b[0;34m)\u001b[0m \u001b[0;34m+\u001b[0m \u001b[0;34m(\u001b[0m\u001b[0;36m1\u001b[0m\u001b[0;34m/\u001b[0m\u001b[0;36m32\u001b[0m\u001b[0;34m*\u001b[0m\u001b[0;34m(\u001b[0m\u001b[0msinal\u001b[0m\u001b[0;34m[\u001b[0m\u001b[0mi\u001b[0m\u001b[0;34m]\u001b[0m \u001b[0;34m-\u001b[0m \u001b[0;36m2\u001b[0m\u001b[0;34m*\u001b[0m\u001b[0msinal\u001b[0m\u001b[0;34m[\u001b[0m\u001b[0mi\u001b[0m\u001b[0;34m-\u001b[0m\u001b[0;36m6\u001b[0m\u001b[0;34m]\u001b[0m \u001b[0;34m+\u001b[0m \u001b[0msinal\u001b[0m\u001b[0;34m[\u001b[0m\u001b[0mi\u001b[0m\u001b[0;34m-\u001b[0m\u001b[0;36m12\u001b[0m\u001b[0;34m]\u001b[0m\u001b[0;34m)\u001b[0m\u001b[0;34m)\u001b[0m\u001b[0;34m\u001b[0m\u001b[0;34m\u001b[0m\u001b[0m\n\u001b[0m\u001b[1;32m      5\u001b[0m     \u001b[0;32mreturn\u001b[0m \u001b[0mlowpass\u001b[0m\u001b[0;34m\u001b[0m\u001b[0;34m\u001b[0m\u001b[0m\n",
      "\u001b[0;32m/tmp/ipykernel_15891/3799654308.py\u001b[0m in \u001b[0;36mpass_baixa\u001b[0;34m(sinal)\u001b[0m\n\u001b[1;32m      1\u001b[0m \u001b[0;32mdef\u001b[0m \u001b[0mpass_baixa\u001b[0m\u001b[0;34m(\u001b[0m\u001b[0msinal\u001b[0m\u001b[0;34m)\u001b[0m\u001b[0;34m:\u001b[0m\u001b[0;34m\u001b[0m\u001b[0;34m\u001b[0m\u001b[0m\n\u001b[0;32m----> 2\u001b[0;31m     \u001b[0mlowpass\u001b[0m \u001b[0;34m=\u001b[0m \u001b[0mnp\u001b[0m\u001b[0;34m.\u001b[0m\u001b[0mzeros\u001b[0m\u001b[0;34m(\u001b[0m\u001b[0mlen\u001b[0m\u001b[0;34m(\u001b[0m\u001b[0msinal\u001b[0m\u001b[0;34m)\u001b[0m\u001b[0;34m)\u001b[0m\u001b[0;34m\u001b[0m\u001b[0;34m\u001b[0m\u001b[0m\n\u001b[0m\u001b[1;32m      3\u001b[0m     \u001b[0;32mfor\u001b[0m \u001b[0mi\u001b[0m \u001b[0;32min\u001b[0m \u001b[0mrange\u001b[0m\u001b[0;34m(\u001b[0m\u001b[0;36m13\u001b[0m\u001b[0;34m,\u001b[0m\u001b[0mlen\u001b[0m\u001b[0;34m(\u001b[0m\u001b[0msinal\u001b[0m\u001b[0;34m)\u001b[0m\u001b[0;34m-\u001b[0m\u001b[0;36m1\u001b[0m\u001b[0;34m)\u001b[0m\u001b[0;34m:\u001b[0m\u001b[0;34m\u001b[0m\u001b[0;34m\u001b[0m\u001b[0m\n\u001b[1;32m      4\u001b[0m         \u001b[0mlowpass\u001b[0m\u001b[0;34m[\u001b[0m\u001b[0mi\u001b[0m\u001b[0;34m]\u001b[0m \u001b[0;34m=\u001b[0m \u001b[0;36m2\u001b[0m\u001b[0;34m*\u001b[0m\u001b[0mpass_baixa\u001b[0m\u001b[0;34m(\u001b[0m\u001b[0mlowpass\u001b[0m\u001b[0;34m[\u001b[0m\u001b[0mi\u001b[0m\u001b[0;34m-\u001b[0m\u001b[0;36m1\u001b[0m\u001b[0;34m]\u001b[0m\u001b[0;34m)\u001b[0m \u001b[0;34m-\u001b[0m \u001b[0mpass_baixa\u001b[0m\u001b[0;34m(\u001b[0m\u001b[0mlowpass\u001b[0m\u001b[0;34m[\u001b[0m\u001b[0mi\u001b[0m\u001b[0;34m-\u001b[0m\u001b[0;36m2\u001b[0m\u001b[0;34m]\u001b[0m\u001b[0;34m)\u001b[0m \u001b[0;34m+\u001b[0m \u001b[0;34m(\u001b[0m\u001b[0;36m1\u001b[0m\u001b[0;34m/\u001b[0m\u001b[0;36m32\u001b[0m\u001b[0;34m*\u001b[0m\u001b[0;34m(\u001b[0m\u001b[0msinal\u001b[0m\u001b[0;34m[\u001b[0m\u001b[0mi\u001b[0m\u001b[0;34m]\u001b[0m \u001b[0;34m-\u001b[0m \u001b[0;36m2\u001b[0m\u001b[0;34m*\u001b[0m\u001b[0msinal\u001b[0m\u001b[0;34m[\u001b[0m\u001b[0mi\u001b[0m\u001b[0;34m-\u001b[0m\u001b[0;36m6\u001b[0m\u001b[0;34m]\u001b[0m \u001b[0;34m+\u001b[0m \u001b[0msinal\u001b[0m\u001b[0;34m[\u001b[0m\u001b[0mi\u001b[0m\u001b[0;34m-\u001b[0m\u001b[0;36m12\u001b[0m\u001b[0;34m]\u001b[0m\u001b[0;34m)\u001b[0m\u001b[0;34m)\u001b[0m\u001b[0;34m\u001b[0m\u001b[0;34m\u001b[0m\u001b[0m\n\u001b[1;32m      5\u001b[0m     \u001b[0;32mreturn\u001b[0m \u001b[0mlowpass\u001b[0m\u001b[0;34m\u001b[0m\u001b[0;34m\u001b[0m\u001b[0m\n",
      "\u001b[0;31mTypeError\u001b[0m: object of type 'numpy.float64' has no len()"
     ]
    }
   ],
   "source": [
    "teste_passab = pass_baixa(record)\n",
    "plt.figure(figsize=(10,5))\n",
    "plt.xlabel(xlabel=\"Time(ms)\")\n",
    "plt.ylabel(ylabel=\"Amplitude\")\n",
    "plt.plot(tamanho[0:1200], teste_passab[0:1200])"
   ]
  },
  {
   "cell_type": "code",
   "execution_count": null,
   "id": "c506131b",
   "metadata": {},
   "outputs": [],
   "source": []
  }
 ],
 "metadata": {
  "kernelspec": {
   "display_name": "Python 3 (ipykernel)",
   "language": "python",
   "name": "python3"
  },
  "language_info": {
   "codemirror_mode": {
    "name": "ipython",
    "version": 3
   },
   "file_extension": ".py",
   "mimetype": "text/x-python",
   "name": "python",
   "nbconvert_exporter": "python",
   "pygments_lexer": "ipython3",
   "version": "3.8.10"
  }
 },
 "nbformat": 4,
 "nbformat_minor": 5
}
