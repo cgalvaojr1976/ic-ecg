{
 "cells": [
  {
   "cell_type": "markdown",
   "id": "5653055e",
   "metadata": {},
   "source": [
    "# Detecção de Infarto do miocárdio usando sinais ECG\n",
    "O presente documento é a representação da rede neural do artigo: \"Application of deep convolutional neural network for automated detection of myocardial infarction using ECG signals\".\n",
    "<br>\n",
    "Retirado em: <a href= \"https://www.sciencedirect.com/science/article/pii/S0020025517308009\"> Application of deep convolutional neural network for automated detection of myocardial infarction using ECG signals </a>\n",
    "## Artigo\n",
    "O artigo utiliza redes neurais convolucionais para detectar automaticamente infarto do coração. Dois modelos diferentes foram utilizados, um com ruído e outro sem. Aqui reproduziremos a arquitetura com os ruídos.\n",
    "## Database\n",
    "Os dados foram retirados de: <a href= \"https://www.physionet.org/content/ptbdb/1.0.0/\"> PTB Diagnostic ECG Database </a>. Apesar de ter 9 classes, somente 2 foram utilizadas, as de pessoas saudáveis (52) e de infarto do miocárdio(148). Outro fator importante é que são utilizados 12 leads para classificação, entretanto somento o lead II é usado. Por último, a frequência de obtenção de sinais é de 2KHz."
   ]
  },
  {
   "cell_type": "code",
   "execution_count": 1,
   "id": "8904967d",
   "metadata": {},
   "outputs": [],
   "source": [
    "import torch\n",
    "import pandas as pd\n",
    "import numpy as np\n",
    "import matplotlib.pyplot as plt"
   ]
  },
  {
   "cell_type": "code",
   "execution_count": null,
   "id": "7bad1713",
   "metadata": {},
   "outputs": [],
   "source": [
    "import torch"
   ]
  },
  {
   "cell_type": "markdown",
   "id": "80661bec",
   "metadata": {},
   "source": [
    "## Carregar os dados"
   ]
  },
  {
   "cell_type": "code",
   "execution_count": 9,
   "id": "8291ce86",
   "metadata": {},
   "outputs": [
    {
     "data": {
      "text/plain": [
       "<bound method NDFrame.head of             0         1         2         3         4         5         6    \\\n",
       "0      436.0000  426.0000  422.0000    0.4200  416.0000  418.0000    0.4175   \n",
       "1      444.0000  458.0000  455.0000    0.4475    0.4485  443.0000  439.0000   \n",
       "2      436.0000  441.0000  436.0000  432.0000  432.0000    0.4235    0.4200   \n",
       "3      407.0000  404.0000    0.4135    0.4205    0.4185  413.0000  414.0000   \n",
       "4        0.4095    0.3965  404.0000    0.4295  437.0000    0.4375  435.0000   \n",
       "...         ...       ...       ...       ...       ...       ...       ...   \n",
       "18179    0.1255    0.1165    0.1095  105.0000    0.1015    0.0995    0.1035   \n",
       "18180   43.0000   61.0000    0.0475   47.0000   85.0000    0.0800    0.0735   \n",
       "18181    0.1025    0.1155  103.0000    0.0915  106.0000    0.1105    0.0775   \n",
       "18182    0.1135   71.0000    0.0555    0.0635    0.0715    0.0875   77.0000   \n",
       "18183    0.1105    0.1015    0.0995   89.0000   77.0000    0.0785    0.0855   \n",
       "\n",
       "            7         8         9    ...       642       643       644  \\\n",
       "0      413.0000    0.4105  408.0000  ...  339.0000    0.3305  336.0000   \n",
       "1        0.4255    0.4185  422.0000  ...  365.0000  361.0000  356.0000   \n",
       "2      422.0000    0.4325    0.4305  ...    0.3325  327.0000  324.0000   \n",
       "3      406.0000  404.0000  418.0000  ...  332.0000    0.3385  327.0000   \n",
       "4        0.4325  438.0000  439.0000  ...  352.0000  358.0000    0.3465   \n",
       "...         ...       ...       ...  ...       ...       ...       ...   \n",
       "18179  104.0000  102.0000  119.0000  ...   52.0000    0.0585   46.0000   \n",
       "18180    0.0795   68.0000    0.0545  ...    0.1100    0.1055    0.0935   \n",
       "18181    0.0575   72.0000   81.0000  ...  194.0000  196.0000  186.0000   \n",
       "18182    0.0625    0.0735   66.0000  ...   69.0000    0.0795    0.0835   \n",
       "18183    0.0785    0.0685   53.0000  ...   75.0000  112.0000    0.1085   \n",
       "\n",
       "            645       646       647       648       649       650  651  \n",
       "0        0.3485  344.0000    0.3435  344.0000    0.3355  334.0000  1.0  \n",
       "1        0.3625  352.0000  345.0000    0.3405    0.3445  339.0000  1.0  \n",
       "2        0.3265  336.0000  339.0000    0.3405    0.3375  332.0000  1.0  \n",
       "3      323.0000    0.3375    0.3505    0.3400    0.3285    0.3205  1.0  \n",
       "4      341.0000  347.0000  345.0000  337.0000  344.0000    0.3515  1.0  \n",
       "...         ...       ...       ...       ...       ...       ...  ...  \n",
       "18179   43.0000   61.0000    0.0475   47.0000   85.0000    0.0800  1.0  \n",
       "18180   85.0000    0.1045  119.0000  105.0000    0.1025    0.1155  1.0  \n",
       "18181    0.1855    0.1885  182.0000  165.0000    0.1900  186.0000  1.0  \n",
       "18182    0.0645    0.0605    0.0775    0.0935    0.0925    0.0905  1.0  \n",
       "18183    0.0900    0.0885    0.0800    0.1045  102.0000   92.0000  1.0  \n",
       "\n",
       "[18184 rows x 652 columns]>"
      ]
     },
     "execution_count": 9,
     "metadata": {},
     "output_type": "execute_result"
    }
   ],
   "source": [
    "# Carregar a tabela csv\n",
    "df = pd.read_csv(\"batimentos.csv\", header= None)\n",
    "df.head\n"
   ]
  },
  {
   "cell_type": "code",
   "execution_count": 27,
   "id": "77b172e6",
   "metadata": {},
   "outputs": [
    {
     "name": "stdout",
     "output_type": "stream",
     "text": [
      "<class 'pandas.core.frame.DataFrame'>\n"
     ]
    }
   ],
   "source": [
    "labels = [\"Positive\", \"Negative\"]\n",
    "negative = 0\n",
    "positive = 0\n",
    "\n",
    "#for x in (df.iloc[:,[651]]):\n",
    "#    print(x)\n",
    "    #if x == 0:\n",
    "    #    negative =+ 1\n",
    "    #else:\n",
    "    #    positive =+ 1\n",
    "\n",
    "print(type(df.iloc[:, [651]]))\n",
    "#print(negative)\n",
    "#print(positive)\n",
    "#fig, ax = plt.subplots()\n",
    "#ax.bar()"
   ]
  },
  {
   "cell_type": "code",
   "execution_count": 28,
   "id": "30a9dcd4",
   "metadata": {},
   "outputs": [
    {
     "data": {
      "text/plain": [
       "pandas.core.frame.DataFrame"
      ]
     },
     "execution_count": 28,
     "metadata": {},
     "output_type": "execute_result"
    }
   ],
   "source": [
    "type(df)"
   ]
  },
  {
   "cell_type": "code",
   "execution_count": 6,
   "id": "82da55d3",
   "metadata": {},
   "outputs": [
    {
     "name": "stdout",
     "output_type": "stream",
     "text": [
      "Train size: 11455, Validation size: 4909, Test size: 1820\n"
     ]
    }
   ],
   "source": [
    "total_size = df.shape[0]\n",
    "\n",
    "train_size = int(0.63 * total_size)\n",
    "validation_size = int(0.27 * total_size)\n",
    "test_size = total_size - (validation_size + train_size)\n",
    "\n",
    "print(f\"Train size: {train_size}, Validation size: {validation_size},\\\n",
    " Test size: {test_size}\")\n"
   ]
  },
  {
   "cell_type": "code",
   "execution_count": null,
   "id": "6b573e18",
   "metadata": {},
   "outputs": [],
   "source": [
    "# Dividir o data set em treino teste e validation\n",
    "from torch.utils.data import DataLoader\n",
    "# Dividir o dataset em treino teste e validation \n"
   ]
  },
  {
   "cell_type": "markdown",
   "id": "97db8737",
   "metadata": {},
   "source": [
    "## Arquitetura"
   ]
  },
  {
   "cell_type": "code",
   "execution_count": null,
   "id": "d5f8ca96",
   "metadata": {},
   "outputs": [],
   "source": [
    "model = "
   ]
  },
  {
   "cell_type": "markdown",
   "id": "55cb319d",
   "metadata": {},
   "source": [
    "## Treino"
   ]
  },
  {
   "cell_type": "code",
   "execution_count": null,
   "id": "aa35e9d6",
   "metadata": {},
   "outputs": [],
   "source": []
  },
  {
   "cell_type": "markdown",
   "id": "6f3d536b",
   "metadata": {},
   "source": [
    "## Teste"
   ]
  }
 ],
 "metadata": {
  "kernelspec": {
   "display_name": "Python 3 (ipykernel)",
   "language": "python",
   "name": "python3"
  },
  "language_info": {
   "codemirror_mode": {
    "name": "ipython",
    "version": 3
   },
   "file_extension": ".py",
   "mimetype": "text/x-python",
   "name": "python",
   "nbconvert_exporter": "python",
   "pygments_lexer": "ipython3",
   "version": "3.8.10"
  }
 },
 "nbformat": 4,
 "nbformat_minor": 5
}
