{
 "cells": [
  {
   "cell_type": "markdown",
   "id": "5653055e",
   "metadata": {},
   "source": [
    "# Classificação dos tipos de Batimentos cardíacos\n",
    "\n",
    "## Artigo\n",
    "O presente documento foi feito seguindo a rede neural do artigo: \"A deep convolutional neural network model to classify heartbeats\". Retirado em: <a href= \"https://www.sciencedirect.com/science/article/pii/S0010482517302810\"> link </a>"
   ]
  },
  {
   "cell_type": "code",
   "execution_count": null,
   "id": "cea6ea40",
   "metadata": {},
   "outputs": [],
   "source": []
  }
 ],
 "metadata": {
  "kernelspec": {
   "display_name": "Python 3 (ipykernel)",
   "language": "python",
   "name": "python3"
  },
  "language_info": {
   "codemirror_mode": {
    "name": "ipython",
    "version": 3
   },
   "file_extension": ".py",
   "mimetype": "text/x-python",
   "name": "python",
   "nbconvert_exporter": "python",
   "pygments_lexer": "ipython3",
   "version": "3.8.12"
  }
 },
 "nbformat": 4,
 "nbformat_minor": 5
}
