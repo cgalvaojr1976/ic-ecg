{
 "cells": [
  {
   "cell_type": "markdown",
   "id": "5653055e",
   "metadata": {},
   "source": [
    "# Detecção de Infarto do miocárdio usando sinais ECG\n",
    "O presente documento é a representação da rede neural do artigo: \"Application of deep convolutional neural network for automated detection of myocardial infarction using ECG signals\".\n",
    "<br>\n",
    "Retirado em: <a href= \"https://www.sciencedirect.com/science/article/pii/S0020025517308009\"> Application of deep convolutional neural network for automated detection of myocardial infarction using ECG signals </a>\n",
    "## Artigo\n",
    "O artigo utiliza redes neurais convolucionais para detectar automaticamente infarto do coração. Dois modelos diferentes foram utilizados, um com ruído e outro sem. Aqui reproduziremos a arquitetura com os ruídos.\n",
    "## Database\n",
    "Os dados foram retirados de: <a href= \"https://www.physionet.org/content/ptbdb/1.0.0/\"> PTB Diagnostic ECG Database </a>. Apesar de ter 9 classes, somente 2 foram utilizadas, as de pessoas saudáveis (52) e de infarto do miocárdio(148). Outro fator importante é que são utilizados 12 leads para classificação, entretanto somento o lead II é usado. Por último, a frequência de obtenção de sinais é de 1KHz."
   ]
  },
  {
   "cell_type": "markdown",
   "id": "80661bec",
   "metadata": {},
   "source": [
    "## Pre Processamento"
   ]
  },
  {
   "cell_type": "code",
   "execution_count": null,
   "id": "8291ce86",
   "metadata": {},
   "outputs": [],
   "source": []
  },
  {
   "cell_type": "markdown",
   "id": "97db8737",
   "metadata": {},
   "source": [
    "## Arquitetura"
   ]
  },
  {
   "cell_type": "code",
   "execution_count": null,
   "id": "d5f8ca96",
   "metadata": {},
   "outputs": [],
   "source": []
  },
  {
   "cell_type": "markdown",
   "id": "55cb319d",
   "metadata": {},
   "source": [
    "## Treino"
   ]
  },
  {
   "cell_type": "code",
   "execution_count": null,
   "id": "aa35e9d6",
   "metadata": {},
   "outputs": [],
   "source": []
  },
  {
   "cell_type": "markdown",
   "id": "6f3d536b",
   "metadata": {},
   "source": [
    "## Teste"
   ]
  }
 ],
 "metadata": {
  "kernelspec": {
   "display_name": "Python 3 (ipykernel)",
   "language": "python",
   "name": "python3"
  },
  "language_info": {
   "codemirror_mode": {
    "name": "ipython",
    "version": 3
   },
   "file_extension": ".py",
   "mimetype": "text/x-python",
   "name": "python",
   "nbconvert_exporter": "python",
   "pygments_lexer": "ipython3",
   "version": "3.8.12"
  }
 },
 "nbformat": 4,
 "nbformat_minor": 5
}
