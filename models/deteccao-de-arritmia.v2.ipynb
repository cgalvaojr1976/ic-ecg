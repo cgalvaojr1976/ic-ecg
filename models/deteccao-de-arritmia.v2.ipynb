{
 "cells": [
  {
   "cell_type": "markdown",
   "id": "9107e1fa",
   "metadata": {
    "papermill": {
     "duration": 0.028852,
     "end_time": "2022-03-10T04:22:11.215239",
     "exception": false,
     "start_time": "2022-03-10T04:22:11.186387",
     "status": "completed"
    },
    "tags": []
   },
   "source": [
    "# Detecção de Infarto do miocárdio usando sinais ECG\n",
    "O presente documento é a representação da rede neural do artigo: \"Application of deep convolutional neural network for automated detection of myocardial infarction using ECG signals\".\n",
    "<br>\n",
    "Retirado em: <a href= \"https://www.sciencedirect.com/science/article/pii/S0020025517308009\"> Application of deep convolutional neural network for automated detection of myocardial infarction using ECG signals </a>\n",
    "## Artigo\n",
    "O artigo utiliza redes neurais convolucionais para detectar automaticamente infarto do coração. Dois modelos diferentes foram utilizados, um com ruído e outro sem. Aqui reproduziremos a arquitetura com os ruídos.\n",
    "## Database\n",
    "Os dados foram retirados de: <a href= \"https://www.physionet.org/content/ptbdb/1.0.0/\"> PTB Diagnostic ECG Database </a>. Apesar de ter 9 classes, somente 2 foram utilizadas, as de pessoas saudáveis (52) e de infarto do miocárdio(148). Outro fator importante é que são utilizados 12 leads para classificação, entretanto somento o lead II é usado. Por último, a frequência de obtenção de sinais é de 2KHz."
   ]
  },
  {
   "cell_type": "code",
   "execution_count": 524,
   "id": "134f5f1c",
   "metadata": {
    "execution": {
     "iopub.execute_input": "2022-03-10T04:22:11.277123Z",
     "iopub.status.busy": "2022-03-10T04:22:11.275392Z",
     "iopub.status.idle": "2022-03-10T04:22:12.706220Z",
     "shell.execute_reply": "2022-03-10T04:22:12.705133Z",
     "shell.execute_reply.started": "2022-03-10T04:06:19.190263Z"
    },
    "papermill": {
     "duration": 1.462335,
     "end_time": "2022-03-10T04:22:12.706380",
     "exception": false,
     "start_time": "2022-03-10T04:22:11.244045",
     "status": "completed"
    },
    "tags": []
   },
   "outputs": [],
   "source": [
    "import torch\n",
    "import pandas as pd\n",
    "import numpy as np\n",
    "import matplotlib.pyplot as plt"
   ]
  },
  {
   "cell_type": "code",
   "execution_count": 525,
   "id": "e287d149",
   "metadata": {
    "execution": {
     "iopub.execute_input": "2022-03-10T04:22:12.809443Z",
     "iopub.status.busy": "2022-03-10T04:22:12.808367Z",
     "iopub.status.idle": "2022-03-10T04:22:12.812011Z",
     "shell.execute_reply": "2022-03-10T04:22:12.812417Z",
     "shell.execute_reply.started": "2022-03-10T04:06:24.262554Z"
    },
    "papermill": {
     "duration": 0.078566,
     "end_time": "2022-03-10T04:22:12.812552",
     "exception": false,
     "start_time": "2022-03-10T04:22:12.733986",
     "status": "completed"
    },
    "tags": []
   },
   "outputs": [
    {
     "name": "stdout",
     "output_type": "stream",
     "text": [
      "CUDA is available!  Training on GPU ...\n"
     ]
    }
   ],
   "source": [
    "train_on_gpu = torch.cuda.is_available()\n",
    "\n",
    "if not train_on_gpu:\n",
    "    print('CUDA is not available.  Training on CPU ...')\n",
    "else:\n",
    "    print('CUDA is available!  Training on GPU ...')"
   ]
  },
  {
   "cell_type": "markdown",
   "id": "f5cd10ec",
   "metadata": {
    "papermill": {
     "duration": 0.028316,
     "end_time": "2022-03-10T04:22:12.869101",
     "exception": false,
     "start_time": "2022-03-10T04:22:12.840785",
     "status": "completed"
    },
    "tags": []
   },
   "source": [
    "## Carregar os dados"
   ]
  },
  {
   "cell_type": "code",
   "execution_count": 526,
   "id": "5c748f92",
   "metadata": {
    "execution": {
     "iopub.execute_input": "2022-03-10T04:22:12.931027Z",
     "iopub.status.busy": "2022-03-10T04:22:12.930388Z",
     "iopub.status.idle": "2022-03-10T04:22:13.666474Z",
     "shell.execute_reply": "2022-03-10T04:22:13.667040Z",
     "shell.execute_reply.started": "2022-03-10T04:06:26.81014Z"
    },
    "papermill": {
     "duration": 0.768379,
     "end_time": "2022-03-10T04:22:13.667247",
     "exception": false,
     "start_time": "2022-03-10T04:22:12.898868",
     "status": "completed"
    },
    "tags": []
   },
   "outputs": [
    {
     "data": {
      "text/html": [
       "<div>\n",
       "<style scoped>\n",
       "    .dataframe tbody tr th:only-of-type {\n",
       "        vertical-align: middle;\n",
       "    }\n",
       "\n",
       "    .dataframe tbody tr th {\n",
       "        vertical-align: top;\n",
       "    }\n",
       "\n",
       "    .dataframe thead th {\n",
       "        text-align: right;\n",
       "    }\n",
       "</style>\n",
       "<table border=\"1\" class=\"dataframe\">\n",
       "  <thead>\n",
       "    <tr style=\"text-align: right;\">\n",
       "      <th></th>\n",
       "      <th>n</th>\n",
       "      <th>0</th>\n",
       "      <th>1</th>\n",
       "      <th>2</th>\n",
       "      <th>3</th>\n",
       "      <th>4</th>\n",
       "      <th>5</th>\n",
       "      <th>6</th>\n",
       "      <th>7</th>\n",
       "      <th>8</th>\n",
       "      <th>...</th>\n",
       "      <th>318</th>\n",
       "      <th>319</th>\n",
       "      <th>320</th>\n",
       "      <th>321</th>\n",
       "      <th>322</th>\n",
       "      <th>323</th>\n",
       "      <th>324</th>\n",
       "      <th>325</th>\n",
       "      <th>Arritmia</th>\n",
       "      <th>Lead</th>\n",
       "    </tr>\n",
       "  </thead>\n",
       "  <tbody>\n",
       "    <tr>\n",
       "      <th>0</th>\n",
       "      <td>0</td>\n",
       "      <td>-0.007</td>\n",
       "      <td>-0.010</td>\n",
       "      <td>-0.012</td>\n",
       "      <td>-0.007</td>\n",
       "      <td>-0.003</td>\n",
       "      <td>-0.002</td>\n",
       "      <td>-0.002</td>\n",
       "      <td>-0.005</td>\n",
       "      <td>-0.019</td>\n",
       "      <td>...</td>\n",
       "      <td>0.001</td>\n",
       "      <td>-0.015</td>\n",
       "      <td>-0.030</td>\n",
       "      <td>-0.029</td>\n",
       "      <td>-0.018</td>\n",
       "      <td>-0.012</td>\n",
       "      <td>-0.010</td>\n",
       "      <td>-0.006</td>\n",
       "      <td>426627000.0</td>\n",
       "      <td>0.0</td>\n",
       "    </tr>\n",
       "    <tr>\n",
       "      <th>1</th>\n",
       "      <td>1</td>\n",
       "      <td>-0.014</td>\n",
       "      <td>-0.005</td>\n",
       "      <td>-0.001</td>\n",
       "      <td>0.003</td>\n",
       "      <td>0.019</td>\n",
       "      <td>0.030</td>\n",
       "      <td>0.038</td>\n",
       "      <td>0.033</td>\n",
       "      <td>0.025</td>\n",
       "      <td>...</td>\n",
       "      <td>0.020</td>\n",
       "      <td>0.023</td>\n",
       "      <td>0.023</td>\n",
       "      <td>0.021</td>\n",
       "      <td>0.011</td>\n",
       "      <td>0.008</td>\n",
       "      <td>0.011</td>\n",
       "      <td>0.003</td>\n",
       "      <td>426627000.0</td>\n",
       "      <td>0.0</td>\n",
       "    </tr>\n",
       "    <tr>\n",
       "      <th>2</th>\n",
       "      <td>2</td>\n",
       "      <td>-0.005</td>\n",
       "      <td>0.010</td>\n",
       "      <td>0.027</td>\n",
       "      <td>0.021</td>\n",
       "      <td>0.021</td>\n",
       "      <td>0.011</td>\n",
       "      <td>0.002</td>\n",
       "      <td>0.000</td>\n",
       "      <td>-0.004</td>\n",
       "      <td>...</td>\n",
       "      <td>-0.037</td>\n",
       "      <td>-0.030</td>\n",
       "      <td>-0.013</td>\n",
       "      <td>-0.004</td>\n",
       "      <td>-0.007</td>\n",
       "      <td>-0.017</td>\n",
       "      <td>-0.020</td>\n",
       "      <td>-0.025</td>\n",
       "      <td>426627000.0</td>\n",
       "      <td>0.0</td>\n",
       "    </tr>\n",
       "    <tr>\n",
       "      <th>3</th>\n",
       "      <td>3</td>\n",
       "      <td>0.015</td>\n",
       "      <td>0.030</td>\n",
       "      <td>0.018</td>\n",
       "      <td>-0.004</td>\n",
       "      <td>-0.013</td>\n",
       "      <td>-0.012</td>\n",
       "      <td>0.000</td>\n",
       "      <td>-0.002</td>\n",
       "      <td>0.001</td>\n",
       "      <td>...</td>\n",
       "      <td>0.004</td>\n",
       "      <td>-0.008</td>\n",
       "      <td>-0.017</td>\n",
       "      <td>-0.009</td>\n",
       "      <td>-0.007</td>\n",
       "      <td>0.001</td>\n",
       "      <td>-0.007</td>\n",
       "      <td>-0.025</td>\n",
       "      <td>426627000.0</td>\n",
       "      <td>0.0</td>\n",
       "    </tr>\n",
       "    <tr>\n",
       "      <th>4</th>\n",
       "      <td>4</td>\n",
       "      <td>0.035</td>\n",
       "      <td>0.031</td>\n",
       "      <td>0.030</td>\n",
       "      <td>0.026</td>\n",
       "      <td>0.016</td>\n",
       "      <td>-0.003</td>\n",
       "      <td>-0.009</td>\n",
       "      <td>0.000</td>\n",
       "      <td>-0.004</td>\n",
       "      <td>...</td>\n",
       "      <td>0.001</td>\n",
       "      <td>-0.015</td>\n",
       "      <td>-0.012</td>\n",
       "      <td>-0.007</td>\n",
       "      <td>-0.010</td>\n",
       "      <td>-0.008</td>\n",
       "      <td>-0.005</td>\n",
       "      <td>-0.002</td>\n",
       "      <td>426627000.0</td>\n",
       "      <td>0.0</td>\n",
       "    </tr>\n",
       "  </tbody>\n",
       "</table>\n",
       "<p>5 rows × 329 columns</p>\n",
       "</div>"
      ],
      "text/plain": [
       "   n      0      1      2      3      4      5      6      7      8  ...  \\\n",
       "0  0 -0.007 -0.010 -0.012 -0.007 -0.003 -0.002 -0.002 -0.005 -0.019  ...   \n",
       "1  1 -0.014 -0.005 -0.001  0.003  0.019  0.030  0.038  0.033  0.025  ...   \n",
       "2  2 -0.005  0.010  0.027  0.021  0.021  0.011  0.002  0.000 -0.004  ...   \n",
       "3  3  0.015  0.030  0.018 -0.004 -0.013 -0.012  0.000 -0.002  0.001  ...   \n",
       "4  4  0.035  0.031  0.030  0.026  0.016 -0.003 -0.009  0.000 -0.004  ...   \n",
       "\n",
       "     318    319    320    321    322    323    324    325     Arritmia  Lead  \n",
       "0  0.001 -0.015 -0.030 -0.029 -0.018 -0.012 -0.010 -0.006  426627000.0   0.0  \n",
       "1  0.020  0.023  0.023  0.021  0.011  0.008  0.011  0.003  426627000.0   0.0  \n",
       "2 -0.037 -0.030 -0.013 -0.004 -0.007 -0.017 -0.020 -0.025  426627000.0   0.0  \n",
       "3  0.004 -0.008 -0.017 -0.009 -0.007  0.001 -0.007 -0.025  426627000.0   0.0  \n",
       "4  0.001 -0.015 -0.012 -0.007 -0.010 -0.008 -0.005 -0.002  426627000.0   0.0  \n",
       "\n",
       "[5 rows x 329 columns]"
      ]
     },
     "execution_count": 526,
     "metadata": {},
     "output_type": "execute_result"
    }
   ],
   "source": [
    "# Carregar a tabela csv\n",
    "df = pd.read_csv(\"batimentos.csv\")\n",
    "\n",
    "cols = ['n']\n",
    "for i in range(326):\n",
    "    cols.append(str(i))\n",
    "cols.append(\"Arritmia\")\n",
    "cols.append(\"Lead\")\n",
    "df.columns = cols\n",
    "df.head()"
   ]
  },
  {
   "cell_type": "code",
   "execution_count": 527,
   "id": "c9a0799f",
   "metadata": {
    "execution": {
     "iopub.execute_input": "2022-03-10T04:22:13.775227Z",
     "iopub.status.busy": "2022-03-10T04:22:13.774682Z",
     "iopub.status.idle": "2022-03-10T04:22:13.782035Z",
     "shell.execute_reply": "2022-03-10T04:22:13.782799Z",
     "shell.execute_reply.started": "2022-03-10T04:06:32.311281Z"
    },
    "papermill": {
     "duration": 0.064338,
     "end_time": "2022-03-10T04:22:13.782977",
     "exception": false,
     "start_time": "2022-03-10T04:22:13.718639",
     "status": "completed"
    },
    "tags": []
   },
   "outputs": [
    {
     "data": {
      "text/plain": [
       "array([4.26627000e+08, 4.26783006e+08])"
      ]
     },
     "execution_count": 527,
     "metadata": {},
     "output_type": "execute_result"
    }
   ],
   "source": [
    "df['Arritmia'].unique()"
   ]
  },
  {
   "cell_type": "code",
   "execution_count": 528,
   "id": "972357f4",
   "metadata": {
    "execution": {
     "iopub.execute_input": "2022-03-10T04:22:13.884166Z",
     "iopub.status.busy": "2022-03-10T04:22:13.883405Z",
     "iopub.status.idle": "2022-03-10T04:22:13.885850Z",
     "shell.execute_reply": "2022-03-10T04:22:13.885406Z",
     "shell.execute_reply.started": "2022-03-10T04:06:35.87518Z"
    },
    "papermill": {
     "duration": 0.055524,
     "end_time": "2022-03-10T04:22:13.885963",
     "exception": false,
     "start_time": "2022-03-10T04:22:13.830439",
     "status": "completed"
    },
    "tags": []
   },
   "outputs": [],
   "source": [
    "df.loc[lambda df: df[\"Arritmia\"] == 426783006.0, \"Arritmia\"] = 0"
   ]
  },
  {
   "cell_type": "code",
   "execution_count": 529,
   "id": "8be8e33c",
   "metadata": {
    "execution": {
     "iopub.execute_input": "2022-03-10T04:22:13.949119Z",
     "iopub.status.busy": "2022-03-10T04:22:13.947652Z",
     "iopub.status.idle": "2022-03-10T04:22:13.951927Z",
     "shell.execute_reply": "2022-03-10T04:22:13.951410Z",
     "shell.execute_reply.started": "2022-03-10T04:06:39.187438Z"
    },
    "papermill": {
     "duration": 0.037365,
     "end_time": "2022-03-10T04:22:13.952047",
     "exception": false,
     "start_time": "2022-03-10T04:22:13.914682",
     "status": "completed"
    },
    "tags": []
   },
   "outputs": [],
   "source": [
    "df.loc[lambda df: df[\"Arritmia\"] == 426627000.0, \"Arritmia\"] = 1"
   ]
  },
  {
   "cell_type": "code",
   "execution_count": 530,
   "id": "05f7aafd",
   "metadata": {
    "execution": {
     "iopub.execute_input": "2022-03-10T04:22:14.015040Z",
     "iopub.status.busy": "2022-03-10T04:22:14.014467Z",
     "iopub.status.idle": "2022-03-10T04:22:14.020566Z",
     "shell.execute_reply": "2022-03-10T04:22:14.021063Z",
     "shell.execute_reply.started": "2022-03-10T04:06:43.214868Z"
    },
    "papermill": {
     "duration": 0.040159,
     "end_time": "2022-03-10T04:22:14.021187",
     "exception": false,
     "start_time": "2022-03-10T04:22:13.981028",
     "status": "completed"
    },
    "tags": []
   },
   "outputs": [
    {
     "data": {
      "text/plain": [
       "array([1., 0.])"
      ]
     },
     "execution_count": 530,
     "metadata": {},
     "output_type": "execute_result"
    }
   ],
   "source": [
    "df['Arritmia'].unique()"
   ]
  },
  {
   "cell_type": "code",
   "execution_count": 531,
   "id": "b9d753f6",
   "metadata": {
    "execution": {
     "iopub.execute_input": "2022-03-10T04:22:14.090298Z",
     "iopub.status.busy": "2022-03-10T04:22:14.089432Z",
     "iopub.status.idle": "2022-03-10T04:22:14.296553Z",
     "shell.execute_reply": "2022-03-10T04:22:14.296150Z",
     "shell.execute_reply.started": "2022-03-10T04:06:49.795592Z"
    },
    "papermill": {
     "duration": 0.243549,
     "end_time": "2022-03-10T04:22:14.296679",
     "exception": false,
     "start_time": "2022-03-10T04:22:14.053130",
     "status": "completed"
    },
    "tags": []
   },
   "outputs": [
    {
     "data": {
      "text/plain": [
       "(array([3365.,    0.,    0.,    0.,    0.,    0.,    0.,    0.,    0.,\n",
       "        2377.]),\n",
       " array([0. , 0.1, 0.2, 0.3, 0.4, 0.5, 0.6, 0.7, 0.8, 0.9, 1. ]),\n",
       " <BarContainer object of 10 artists>)"
      ]
     },
     "execution_count": 531,
     "metadata": {},
     "output_type": "execute_result"
    },
    {
     "data": {
      "image/png": "[encoded data removed]",
      "text/plain": [
       "<Figure size 432x288 with 1 Axes>"
      ]
     },
     "metadata": {
      "needs_background": "light"
     },
     "output_type": "display_data"
    }
   ],
   "source": [
    "plt.hist(df.loc[:,\"Arritmia\"])"
   ]
  },
  {
   "cell_type": "code",
   "execution_count": 532,
   "id": "ad772806",
   "metadata": {
    "execution": {
     "iopub.execute_input": "2022-03-10T04:22:14.364255Z",
     "iopub.status.busy": "2022-03-10T04:22:14.362676Z",
     "iopub.status.idle": "2022-03-10T04:22:14.366471Z",
     "shell.execute_reply": "2022-03-10T04:22:14.366051Z",
     "shell.execute_reply.started": "2022-03-10T04:08:44.853468Z"
    },
    "papermill": {
     "duration": 0.039599,
     "end_time": "2022-03-10T04:22:14.366582",
     "exception": false,
     "start_time": "2022-03-10T04:22:14.326983",
     "status": "completed"
    },
    "tags": []
   },
   "outputs": [
    {
     "name": "stdout",
     "output_type": "stream",
     "text": [
      "Train size: 3617, Validation size: 1550, Test size: 575\n"
     ]
    }
   ],
   "source": [
    "total_size = df.shape[0]\n",
    "\n",
    "train_size = int(0.63 * total_size)\n",
    "validation_size = int(0.27 * total_size)\n",
    "test_size = total_size - (validation_size + train_size)\n",
    "\n",
    "print(f\"Train size: {train_size}, Validation size: {validation_size},\\\n",
    " Test size: {test_size}\")\n"
   ]
  },
  {
   "cell_type": "code",
   "execution_count": 533,
   "id": "ae5f3c4a",
   "metadata": {
    "execution": {
     "iopub.execute_input": "2022-03-10T04:22:14.449152Z",
     "iopub.status.busy": "2022-03-10T04:22:14.448262Z",
     "iopub.status.idle": "2022-03-10T04:22:14.456756Z",
     "shell.execute_reply": "2022-03-10T04:22:14.457181Z",
     "shell.execute_reply.started": "2022-03-10T04:08:49.179588Z"
    },
    "papermill": {
     "duration": 0.05964,
     "end_time": "2022-03-10T04:22:14.457304",
     "exception": false,
     "start_time": "2022-03-10T04:22:14.397664",
     "status": "completed"
    },
    "tags": []
   },
   "outputs": [
    {
     "data": {
      "text/html": [
       "<div>\n",
       "<style scoped>\n",
       "    .dataframe tbody tr th:only-of-type {\n",
       "        vertical-align: middle;\n",
       "    }\n",
       "\n",
       "    .dataframe tbody tr th {\n",
       "        vertical-align: top;\n",
       "    }\n",
       "\n",
       "    .dataframe thead th {\n",
       "        text-align: right;\n",
       "    }\n",
       "</style>\n",
       "<table border=\"1\" class=\"dataframe\">\n",
       "  <thead>\n",
       "    <tr style=\"text-align: right;\">\n",
       "      <th></th>\n",
       "      <th>n</th>\n",
       "      <th>0</th>\n",
       "      <th>1</th>\n",
       "      <th>2</th>\n",
       "      <th>3</th>\n",
       "      <th>4</th>\n",
       "      <th>5</th>\n",
       "      <th>6</th>\n",
       "      <th>7</th>\n",
       "      <th>8</th>\n",
       "      <th>...</th>\n",
       "      <th>318</th>\n",
       "      <th>319</th>\n",
       "      <th>320</th>\n",
       "      <th>321</th>\n",
       "      <th>322</th>\n",
       "      <th>323</th>\n",
       "      <th>324</th>\n",
       "      <th>325</th>\n",
       "      <th>Arritmia</th>\n",
       "      <th>Lead</th>\n",
       "    </tr>\n",
       "  </thead>\n",
       "  <tbody>\n",
       "    <tr>\n",
       "      <th>0</th>\n",
       "      <td>0</td>\n",
       "      <td>-0.007</td>\n",
       "      <td>-0.010</td>\n",
       "      <td>-0.012</td>\n",
       "      <td>-0.007</td>\n",
       "      <td>-0.003</td>\n",
       "      <td>-0.002</td>\n",
       "      <td>-0.002</td>\n",
       "      <td>-0.005</td>\n",
       "      <td>-0.019</td>\n",
       "      <td>...</td>\n",
       "      <td>0.001</td>\n",
       "      <td>-0.015</td>\n",
       "      <td>-0.030</td>\n",
       "      <td>-0.029</td>\n",
       "      <td>-0.018</td>\n",
       "      <td>-0.012</td>\n",
       "      <td>-0.010</td>\n",
       "      <td>-0.006</td>\n",
       "      <td>1.0</td>\n",
       "      <td>0.0</td>\n",
       "    </tr>\n",
       "    <tr>\n",
       "      <th>1</th>\n",
       "      <td>1</td>\n",
       "      <td>-0.014</td>\n",
       "      <td>-0.005</td>\n",
       "      <td>-0.001</td>\n",
       "      <td>0.003</td>\n",
       "      <td>0.019</td>\n",
       "      <td>0.030</td>\n",
       "      <td>0.038</td>\n",
       "      <td>0.033</td>\n",
       "      <td>0.025</td>\n",
       "      <td>...</td>\n",
       "      <td>0.020</td>\n",
       "      <td>0.023</td>\n",
       "      <td>0.023</td>\n",
       "      <td>0.021</td>\n",
       "      <td>0.011</td>\n",
       "      <td>0.008</td>\n",
       "      <td>0.011</td>\n",
       "      <td>0.003</td>\n",
       "      <td>1.0</td>\n",
       "      <td>0.0</td>\n",
       "    </tr>\n",
       "    <tr>\n",
       "      <th>2</th>\n",
       "      <td>2</td>\n",
       "      <td>-0.005</td>\n",
       "      <td>0.010</td>\n",
       "      <td>0.027</td>\n",
       "      <td>0.021</td>\n",
       "      <td>0.021</td>\n",
       "      <td>0.011</td>\n",
       "      <td>0.002</td>\n",
       "      <td>0.000</td>\n",
       "      <td>-0.004</td>\n",
       "      <td>...</td>\n",
       "      <td>-0.037</td>\n",
       "      <td>-0.030</td>\n",
       "      <td>-0.013</td>\n",
       "      <td>-0.004</td>\n",
       "      <td>-0.007</td>\n",
       "      <td>-0.017</td>\n",
       "      <td>-0.020</td>\n",
       "      <td>-0.025</td>\n",
       "      <td>1.0</td>\n",
       "      <td>0.0</td>\n",
       "    </tr>\n",
       "    <tr>\n",
       "      <th>3</th>\n",
       "      <td>3</td>\n",
       "      <td>0.015</td>\n",
       "      <td>0.030</td>\n",
       "      <td>0.018</td>\n",
       "      <td>-0.004</td>\n",
       "      <td>-0.013</td>\n",
       "      <td>-0.012</td>\n",
       "      <td>0.000</td>\n",
       "      <td>-0.002</td>\n",
       "      <td>0.001</td>\n",
       "      <td>...</td>\n",
       "      <td>0.004</td>\n",
       "      <td>-0.008</td>\n",
       "      <td>-0.017</td>\n",
       "      <td>-0.009</td>\n",
       "      <td>-0.007</td>\n",
       "      <td>0.001</td>\n",
       "      <td>-0.007</td>\n",
       "      <td>-0.025</td>\n",
       "      <td>1.0</td>\n",
       "      <td>0.0</td>\n",
       "    </tr>\n",
       "    <tr>\n",
       "      <th>4</th>\n",
       "      <td>4</td>\n",
       "      <td>0.035</td>\n",
       "      <td>0.031</td>\n",
       "      <td>0.030</td>\n",
       "      <td>0.026</td>\n",
       "      <td>0.016</td>\n",
       "      <td>-0.003</td>\n",
       "      <td>-0.009</td>\n",
       "      <td>0.000</td>\n",
       "      <td>-0.004</td>\n",
       "      <td>...</td>\n",
       "      <td>0.001</td>\n",
       "      <td>-0.015</td>\n",
       "      <td>-0.012</td>\n",
       "      <td>-0.007</td>\n",
       "      <td>-0.010</td>\n",
       "      <td>-0.008</td>\n",
       "      <td>-0.005</td>\n",
       "      <td>-0.002</td>\n",
       "      <td>1.0</td>\n",
       "      <td>0.0</td>\n",
       "    </tr>\n",
       "  </tbody>\n",
       "</table>\n",
       "<p>5 rows × 329 columns</p>\n",
       "</div>"
      ],
      "text/plain": [
       "   n      0      1      2      3      4      5      6      7      8  ...  \\\n",
       "0  0 -0.007 -0.010 -0.012 -0.007 -0.003 -0.002 -0.002 -0.005 -0.019  ...   \n",
       "1  1 -0.014 -0.005 -0.001  0.003  0.019  0.030  0.038  0.033  0.025  ...   \n",
       "2  2 -0.005  0.010  0.027  0.021  0.021  0.011  0.002  0.000 -0.004  ...   \n",
       "3  3  0.015  0.030  0.018 -0.004 -0.013 -0.012  0.000 -0.002  0.001  ...   \n",
       "4  4  0.035  0.031  0.030  0.026  0.016 -0.003 -0.009  0.000 -0.004  ...   \n",
       "\n",
       "     318    319    320    321    322    323    324    325  Arritmia  Lead  \n",
       "0  0.001 -0.015 -0.030 -0.029 -0.018 -0.012 -0.010 -0.006       1.0   0.0  \n",
       "1  0.020  0.023  0.023  0.021  0.011  0.008  0.011  0.003       1.0   0.0  \n",
       "2 -0.037 -0.030 -0.013 -0.004 -0.007 -0.017 -0.020 -0.025       1.0   0.0  \n",
       "3  0.004 -0.008 -0.017 -0.009 -0.007  0.001 -0.007 -0.025       1.0   0.0  \n",
       "4  0.001 -0.015 -0.012 -0.007 -0.010 -0.008 -0.005 -0.002       1.0   0.0  \n",
       "\n",
       "[5 rows x 329 columns]"
      ]
     },
     "execution_count": 533,
     "metadata": {},
     "output_type": "execute_result"
    }
   ],
   "source": [
    "df.head()"
   ]
  },
  {
   "cell_type": "code",
   "execution_count": 534,
   "id": "6e7129bc",
   "metadata": {
    "execution": {
     "iopub.execute_input": "2022-03-10T04:22:14.522521Z",
     "iopub.status.busy": "2022-03-10T04:22:14.522026Z",
     "iopub.status.idle": "2022-03-10T04:22:14.525568Z",
     "shell.execute_reply": "2022-03-10T04:22:14.525180Z",
     "shell.execute_reply.started": "2022-03-10T04:08:55.162467Z"
    },
    "papermill": {
     "duration": 0.037418,
     "end_time": "2022-03-10T04:22:14.525669",
     "exception": false,
     "start_time": "2022-03-10T04:22:14.488251",
     "status": "completed"
    },
    "tags": []
   },
   "outputs": [],
   "source": [
    "header = df.columns"
   ]
  },
  {
   "cell_type": "code",
   "execution_count": 535,
   "id": "dc5112c1",
   "metadata": {
    "execution": {
     "iopub.execute_input": "2022-03-10T04:22:14.591738Z",
     "iopub.status.busy": "2022-03-10T04:22:14.591003Z",
     "iopub.status.idle": "2022-03-10T04:22:14.594173Z",
     "shell.execute_reply": "2022-03-10T04:22:14.593748Z",
     "shell.execute_reply.started": "2022-03-10T04:08:58.593712Z"
    },
    "papermill": {
     "duration": 0.037807,
     "end_time": "2022-03-10T04:22:14.594272",
     "exception": false,
     "start_time": "2022-03-10T04:22:14.556465",
     "status": "completed"
    },
    "tags": []
   },
   "outputs": [
    {
     "data": {
      "text/plain": [
       "Index(['n', '0', '1', '2', '3', '4', '5', '6', '7', '8',\n",
       "       ...\n",
       "       '318', '319', '320', '321', '322', '323', '324', '325', 'Arritmia',\n",
       "       'Lead'],\n",
       "      dtype='object', length=329)"
      ]
     },
     "execution_count": 535,
     "metadata": {},
     "output_type": "execute_result"
    }
   ],
   "source": [
    "header"
   ]
  },
  {
   "cell_type": "code",
   "execution_count": 536,
   "id": "ac24a890",
   "metadata": {
    "execution": {
     "iopub.execute_input": "2022-03-10T04:22:14.664370Z",
     "iopub.status.busy": "2022-03-10T04:22:14.662836Z",
     "iopub.status.idle": "2022-03-10T04:22:14.665000Z",
     "shell.execute_reply": "2022-03-10T04:22:14.665397Z",
     "shell.execute_reply.started": "2022-03-10T04:09:31.619566Z"
    },
    "papermill": {
     "duration": 0.039678,
     "end_time": "2022-03-10T04:22:14.665508",
     "exception": false,
     "start_time": "2022-03-10T04:22:14.625830",
     "status": "completed"
    },
    "tags": []
   },
   "outputs": [],
   "source": [
    "from torch.utils.data.dataset import Dataset\n",
    "\n",
    "class Batimentos(Dataset):\n",
    "  def __init__(self):\n",
    "    xy = df\n",
    "    self.x = torch.tensor(df[header[1:-2]].values, dtype= torch.float32).view(len(df),1,-1)\n",
    "    self.y = torch.tensor((df[header[-2]].values), dtype= int)\n",
    "    self.tamanho = xy.shape[0]\n",
    "  \n",
    "  def __len__(self):\n",
    "    return self.tamanho\n",
    "  \n",
    "  def __getitem__(self, index):\n",
    "    return self.x[index], self.y[index]"
   ]
  },
  {
   "cell_type": "code",
   "execution_count": 537,
   "id": "e3c3e76c",
   "metadata": {
    "execution": {
     "iopub.execute_input": "2022-03-10T04:22:14.746198Z",
     "iopub.status.busy": "2022-03-10T04:22:14.745585Z",
     "iopub.status.idle": "2022-03-10T04:22:14.769133Z",
     "shell.execute_reply": "2022-03-10T04:22:14.769736Z",
     "shell.execute_reply.started": "2022-03-10T04:09:36.056214Z"
    },
    "papermill": {
     "duration": 0.072401,
     "end_time": "2022-03-10T04:22:14.769945",
     "exception": false,
     "start_time": "2022-03-10T04:22:14.697544",
     "status": "completed"
    },
    "tags": []
   },
   "outputs": [],
   "source": [
    "dataset = Batimentos()"
   ]
  },
  {
   "cell_type": "code",
   "execution_count": 563,
   "id": "76c200da",
   "metadata": {
    "execution": {
     "iopub.execute_input": "2022-03-10T04:22:14.900505Z",
     "iopub.status.busy": "2022-03-10T04:22:14.899726Z",
     "iopub.status.idle": "2022-03-10T04:22:14.910556Z",
     "shell.execute_reply": "2022-03-10T04:22:14.911531Z",
     "shell.execute_reply.started": "2022-03-10T04:09:38.760537Z"
    },
    "papermill": {
     "duration": 0.076664,
     "end_time": "2022-03-10T04:22:14.911738",
     "exception": false,
     "start_time": "2022-03-10T04:22:14.835074",
     "status": "completed"
    },
    "tags": []
   },
   "outputs": [],
   "source": [
    "from torch.utils.data import DataLoader\n",
    "\n",
    "\n",
    "batch_size = 32\n",
    "train_data, validation, test_data = torch.utils.data.random_split(dataset, [train_size, validation_size, test_size])\n",
    "\n",
    "train_loader = torch.utils.data.DataLoader(train_data, batch_size=batch_size, shuffle= True)\n",
    "valid_loader = torch.utils.data.DataLoader(validation, batch_size=batch_size, shuffle= True)\n",
    "test_loader = torch.utils.data.DataLoader(test_data, batch_size=batch_size, shuffle= False)"
   ]
  },
  {
   "cell_type": "code",
   "execution_count": 564,
   "id": "aea86c98",
   "metadata": {
    "execution": {
     "iopub.execute_input": "2022-03-10T04:22:15.020018Z",
     "iopub.status.busy": "2022-03-10T04:22:15.018847Z",
     "iopub.status.idle": "2022-03-10T04:22:15.075018Z",
     "shell.execute_reply": "2022-03-10T04:22:15.075994Z",
     "shell.execute_reply.started": "2022-03-10T04:09:41.461114Z"
    },
    "papermill": {
     "duration": 0.114412,
     "end_time": "2022-03-10T04:22:15.076183",
     "exception": false,
     "start_time": "2022-03-10T04:22:14.961771",
     "status": "completed"
    },
    "tags": []
   },
   "outputs": [
    {
     "name": "stdout",
     "output_type": "stream",
     "text": [
      "tensor([[[-0.2530, -0.2680, -0.2870,  ...,  0.1010,  0.1200,  0.1120]],\n",
      "\n",
      "        [[-0.0780, -0.0850, -0.0820,  ..., -0.0470, -0.0500, -0.0500]],\n",
      "\n",
      "        [[-0.1250, -0.1000, -0.1580,  ..., -0.2110, -0.2220, -0.1450]],\n",
      "\n",
      "        ...,\n",
      "\n",
      "        [[ 0.0250,  0.0260,  0.0220,  ..., -0.0640, -0.0640, -0.0600]],\n",
      "\n",
      "        [[-0.0400, -0.0390, -0.0380,  ..., -0.0380, -0.0350, -0.0350]],\n",
      "\n",
      "        [[-0.0400, -0.0400, -0.0400,  ..., -0.0400, -0.0400, -0.0400]]]) tensor([1, 0, 0, 1, 0, 0, 1, 0, 0, 0, 0, 1, 0, 0, 1, 0, 0, 1, 1, 0, 1, 1, 1, 0,\n",
      "        0, 0, 0, 0, 0, 0, 0, 0])\n",
      "torch.Size([32, 1, 326])\n"
     ]
    }
   ],
   "source": [
    "data, label = next(iter(train_loader))\n",
    "print(data, label)\n",
    "print(data.shape)"
   ]
  },
  {
   "cell_type": "code",
   "execution_count": 565,
   "id": "d6eaf5da",
   "metadata": {},
   "outputs": [
    {
     "data": {
      "image/png": "[encoded data removed]",
      "text/plain": [
       "<Figure size 432x288 with 1 Axes>"
      ]
     },
     "metadata": {
      "needs_background": "light"
     },
     "output_type": "display_data"
    }
   ],
   "source": [
    "plt.plot(data[label==0,0,:].T);\n",
    "plt.plot(data[label==0,0,:].T.mean(axis=1),linewidth=7);"
   ]
  },
  {
   "cell_type": "code",
   "execution_count": 566,
   "id": "f3d79ef3",
   "metadata": {},
   "outputs": [
    {
     "data": {
      "image/png": "[encoded data removed]",
      "text/plain": [
       "<Figure size 432x288 with 1 Axes>"
      ]
     },
     "metadata": {
      "needs_background": "light"
     },
     "output_type": "display_data"
    }
   ],
   "source": [
    "plt.plot(data[label==1,0,:].T);\n",
    "plt.plot(data[label==1,0,:].T.mean(axis=1),linewidth=7);"
   ]
  },
  {
   "cell_type": "code",
   "execution_count": 567,
   "id": "bc358833",
   "metadata": {
    "execution": {
     "iopub.execute_input": "2022-03-10T04:22:15.188729Z",
     "iopub.status.busy": "2022-03-10T04:22:15.187906Z",
     "iopub.status.idle": "2022-03-10T04:22:15.191506Z",
     "shell.execute_reply": "2022-03-10T04:22:15.189429Z",
     "shell.execute_reply.started": "2022-03-10T04:09:45.681949Z"
    },
    "papermill": {
     "duration": 0.063731,
     "end_time": "2022-03-10T04:22:15.191687",
     "exception": false,
     "start_time": "2022-03-10T04:22:15.127956",
     "status": "completed"
    },
    "tags": []
   },
   "outputs": [
    {
     "data": {
      "text/plain": [
       "3617"
      ]
     },
     "execution_count": 567,
     "metadata": {},
     "output_type": "execute_result"
    }
   ],
   "source": [
    "len(train_loader.dataset)"
   ]
  },
  {
   "cell_type": "markdown",
   "id": "164329e1",
   "metadata": {
    "papermill": {
     "duration": 0.058016,
     "end_time": "2022-03-10T04:22:15.300893",
     "exception": false,
     "start_time": "2022-03-10T04:22:15.242877",
     "status": "completed"
    },
    "tags": []
   },
   "source": [
    "## Arquitetura"
   ]
  },
  {
   "cell_type": "code",
   "execution_count": 543,
   "id": "6b72716d",
   "metadata": {
    "execution": {
     "iopub.execute_input": "2022-03-10T04:22:15.416362Z",
     "iopub.status.busy": "2022-03-10T04:22:15.415573Z",
     "iopub.status.idle": "2022-03-10T04:22:18.185968Z",
     "shell.execute_reply": "2022-03-10T04:22:18.185466Z",
     "shell.execute_reply.started": "2022-03-10T04:09:47.97Z"
    },
    "papermill": {
     "duration": 2.833105,
     "end_time": "2022-03-10T04:22:18.186101",
     "exception": false,
     "start_time": "2022-03-10T04:22:15.352996",
     "status": "completed"
    },
    "tags": []
   },
   "outputs": [
    {
     "name": "stdout",
     "output_type": "stream",
     "text": [
      "Net(\n",
      "  (conv1): Conv1d(1, 3, kernel_size=(102,), stride=(1,), padding=(1,))\n",
      "  (conv2): Conv1d(3, 10, kernel_size=(24,), stride=(1,), padding=(1,))\n",
      "  (conv3): Conv1d(10, 10, kernel_size=(11,), stride=(1,), padding=(1,))\n",
      "  (conv4): Conv1d(10, 10, kernel_size=(9,), stride=(1,), padding=(1,))\n",
      "  (pool): MaxPool1d(kernel_size=2, stride=2, padding=0, dilation=1, ceil_mode=False)\n",
      "  (fc1): Linear(in_features=60, out_features=30, bias=True)\n",
      "  (fc2): Linear(in_features=30, out_features=10, bias=True)\n",
      "  (fc3): Linear(in_features=10, out_features=2, bias=True)\n",
      "  (batch1): BatchNorm1d(10, eps=1e-05, momentum=0.1, affine=False, track_running_stats=True)\n",
      ")\n"
     ]
    }
   ],
   "source": [
    "import torch.nn as nn\n",
    "import torch.nn.functional as F\n",
    "\n",
    "# define the CNN architecture\n",
    "class Net(nn.Module):\n",
    "    def __init__(self):\n",
    "        super(Net, self).__init__()\n",
    "        # Entrada de um vetor de 651 dados \n",
    "        self.conv1 = nn.Conv1d(1, 3, 102, padding=1)\n",
    "        self.conv2 = nn.Conv1d(3, 10, 24, padding=1)\n",
    "        self.conv3 = nn.Conv1d(10, 10, 11, padding=1)\n",
    "        self.conv4 = nn.Conv1d(10, 10, 9, padding=1)\n",
    "        self.pool = nn.MaxPool1d(2, stride= 2)\n",
    "        self.fc1 = nn.Linear(60, 30)\n",
    "        self.fc2 = nn.Linear(30, 10)\n",
    "        self.fc3 = nn.Linear(10, 2)\n",
    "        # Without Learnable Parameters\n",
    "        self.batch1 = nn.BatchNorm1d(10, affine=False)\n",
    "\n",
    "    def forward(self, x):\n",
    "        # Muda o shape da convolução 1D\n",
    "        #x = x.reshape(x.shape[0],1,-1)\n",
    "        # add sequence of convolutional and max pooling layers\n",
    "        x = self.pool(F.leaky_relu(self.conv1(x)))\n",
    "        x = self.batch1(self.pool(F.leaky_relu(self.conv2(x))))\n",
    "        x = self.batch1(self.pool(F.leaky_relu(self.conv3(x))))\n",
    "        x = self.batch1(self.pool(F.leaky_relu(self.conv4(x))))\n",
    "        \n",
    "        # flatten image input\n",
    "        x = x.view(x.size(0), -1)\n",
    "\n",
    "\n",
    "        # FC com leaky_relu\n",
    "        x = F.leaky_relu(self.fc1(x))\n",
    "        x = F.leaky_relu(self.fc2(x))\n",
    "        #x = F.softmax(self.fc3(x))\n",
    "        x = self.fc3(x)\n",
    "        return x\n",
    "\n",
    "# create a complete CNN\n",
    "model = Net()\n",
    "print(model)\n",
    "\n",
    "# move tensors to GPU if CUDA is available\n",
    "if train_on_gpu:\n",
    "    model.cuda()"
   ]
  },
  {
   "cell_type": "code",
   "execution_count": 544,
   "id": "826441e7",
   "metadata": {},
   "outputs": [
    {
     "name": "stdout",
     "output_type": "stream",
     "text": [
      "torch.Size([32, 3, 113])\n",
      "torch.Size([32, 10, 46])\n",
      "torch.Size([32, 10, 19])\n",
      "torch.Size([32, 10, 6])\n",
      "torch.Size([32, 60])\n",
      "torch.Size([32, 30])\n",
      "torch.Size([32, 10])\n",
      "torch.Size([32, 2])\n",
      "tensor([[ 0.1559,  0.0037],\n",
      "        [ 0.1051, -0.0013],\n",
      "        [ 0.0730, -0.0440],\n",
      "        [ 0.0819,  0.0483],\n",
      "        [ 0.1285, -0.0098],\n",
      "        [ 0.0408, -0.0891],\n",
      "        [ 0.1700,  0.0460],\n",
      "        [ 0.1481,  0.0717],\n",
      "        [ 0.0965, -0.0680],\n",
      "        [-0.0600, -0.0388],\n",
      "        [ 0.1016, -0.0509],\n",
      "        [ 0.0294, -0.0304],\n",
      "        [ 0.0522, -0.0065],\n",
      "        [ 0.1253,  0.0473],\n",
      "        [ 0.1221,  0.0079],\n",
      "        [ 0.1264, -0.0066],\n",
      "        [ 0.1096, -0.0604],\n",
      "        [ 0.1879,  0.0169],\n",
      "        [ 0.1557,  0.0998],\n",
      "        [ 0.0748, -0.0512],\n",
      "        [ 0.1909,  0.0164],\n",
      "        [ 0.1019, -0.0173],\n",
      "        [ 0.1626,  0.0982],\n",
      "        [ 0.1265, -0.0273],\n",
      "        [ 0.0701, -0.0634],\n",
      "        [ 0.0390,  0.0213],\n",
      "        [ 0.1171,  0.0295],\n",
      "        [ 0.0692, -0.0241],\n",
      "        [ 0.1108, -0.0108],\n",
      "        [ 0.1140, -0.0005],\n",
      "        [ 0.0982, -0.0278],\n",
      "        [ 0.1418,  0.0239]], device='cuda:0', grad_fn=<AddmmBackward0>)\n"
     ]
    }
   ],
   "source": [
    "if train_on_gpu:\n",
    "    data = data.cuda()\n",
    "tmp = model.pool(F.leaky_relu(model.conv1(data)))\n",
    "print(tmp.shape)\n",
    "tmp = model.pool(F.leaky_relu(model.conv2(tmp)))\n",
    "print(tmp.shape)\n",
    "tmp = model.pool(F.leaky_relu(model.conv3(tmp)))\n",
    "print(tmp.shape)\n",
    "tmp = model.pool(F.leaky_relu(model.conv4(tmp)))\n",
    "print(tmp.shape)\n",
    "tmp = tmp.view(tmp.size(0), -1)\n",
    "print(tmp.shape)\n",
    "tmp = F.leaky_relu(model.fc1(tmp))\n",
    "print(tmp.shape)\n",
    "tmp = F.leaky_relu(model.fc2(tmp))\n",
    "print(tmp.shape)\n",
    "tmp = model.fc3(tmp)\n",
    "print(tmp.shape)\n",
    "print(model(data))"
   ]
  },
  {
   "cell_type": "markdown",
   "id": "6c844b7e",
   "metadata": {
    "papermill": {
     "duration": 0.032437,
     "end_time": "2022-03-10T04:22:18.251421",
     "exception": false,
     "start_time": "2022-03-10T04:22:18.218984",
     "status": "completed"
    },
    "tags": []
   },
   "source": [
    "the regularization, momentum, and learning rate parameters are set to 0.2, 3 × 10 −4 , and 0.7 respectively."
   ]
  },
  {
   "cell_type": "code",
   "execution_count": 545,
   "id": "2c75ddf9",
   "metadata": {
    "execution": {
     "iopub.execute_input": "2022-03-10T04:22:18.321290Z",
     "iopub.status.busy": "2022-03-10T04:22:18.320565Z",
     "iopub.status.idle": "2022-03-10T04:22:18.322713Z",
     "shell.execute_reply": "2022-03-10T04:22:18.323120Z",
     "shell.execute_reply.started": "2022-03-10T04:09:58.429442Z"
    },
    "papermill": {
     "duration": 0.0394,
     "end_time": "2022-03-10T04:22:18.323245",
     "exception": false,
     "start_time": "2022-03-10T04:22:18.283845",
     "status": "completed"
    },
    "tags": []
   },
   "outputs": [],
   "source": [
    "import torch.optim as optim\n",
    "\n",
    "regularization = 0.2\n",
    "momentum = 3e-4\n",
    "lr = 0.005\n",
    "\n",
    "criterion = nn.CrossEntropyLoss()\n",
    "\n",
    "optmizer = optim.SGD(model.parameters(), lr= lr)#, momentum= momentum, weight_decay= regularization)"
   ]
  },
  {
   "cell_type": "markdown",
   "id": "7eda04f9",
   "metadata": {
    "papermill": {
     "duration": 0.032132,
     "end_time": "2022-03-10T04:22:18.387961",
     "exception": false,
     "start_time": "2022-03-10T04:22:18.355829",
     "status": "completed"
    },
    "tags": []
   },
   "source": [
    "## Treino"
   ]
  },
  {
   "cell_type": "code",
   "execution_count": 546,
   "id": "68416907",
   "metadata": {
    "execution": {
     "iopub.execute_input": "2022-03-10T04:22:18.463552Z",
     "iopub.status.busy": "2022-03-10T04:22:18.462762Z",
     "iopub.status.idle": "2022-03-10T04:22:18.465165Z",
     "shell.execute_reply": "2022-03-10T04:22:18.464748Z",
     "shell.execute_reply.started": "2022-03-10T04:10:03.028883Z"
    },
    "papermill": {
     "duration": 0.044891,
     "end_time": "2022-03-10T04:22:18.465273",
     "exception": false,
     "start_time": "2022-03-10T04:22:18.420382",
     "status": "completed"
    },
    "tags": []
   },
   "outputs": [],
   "source": [
    "def train_model(nEpochs = 10):\n",
    "    train_loss_list =[]\n",
    "    valid_loss_list = []\n",
    "\n",
    "    valid_loss_min = np.Inf # Minimo valid loss\n",
    "\n",
    "    for epoch in range(nEpochs):\n",
    "        train_loss= 0\n",
    "        validation_loss= 0\n",
    "\n",
    "        model.train()\n",
    "        for sample, target in train_loader:\n",
    "            if train_on_gpu:\n",
    "                sample, target = sample.cuda(), target.cuda()\n",
    "        # Zerar o gradiente\n",
    "            optmizer.zero_grad()\n",
    "        # Gera saída do modelo\n",
    "            outputs = model(sample)\n",
    "        # Calcula o erro\n",
    "            loss = criterion(outputs, target)\n",
    "            train_loss+=loss.item()*sample.size(0)\n",
    "        # Calcula os gradientes\n",
    "            loss.backward()\n",
    "        # Otimiza o modelo\n",
    "            optmizer.step()\n",
    "            \n",
    "        model.eval()\n",
    "        for data, target in valid_loader:\n",
    "            # move tensors to GPU if CUDA is available\n",
    "            if train_on_gpu:\n",
    "                data, target = data.cuda(), target.cuda()\n",
    "            # forward pass: compute predicted outputs by passing inputs to the model\n",
    "            output = model(data)\n",
    "            # calculate the batch loss\n",
    "            loss = criterion(output, target)\n",
    "            # update average validation loss \n",
    "            validation_loss += loss.item()*data.size(0)\n",
    "\n",
    "        train_loss = train_loss/len(train_loader.dataset)\n",
    "        train_loss_list.append(train_loss)\n",
    "        \n",
    "        validation_loss = validation_loss/len(valid_loader.dataset)\n",
    "        valid_loss_list.append(validation_loss)\n",
    "      \n",
    "        if (not epoch%5):\n",
    "            print(f\"Época: {epoch} \\nLoss Treino: {train_loss}\")\n",
    "            print(f\"Loss validação: {validation_loss}\")\n",
    "\n",
    "        if validation_loss <= valid_loss_min:\n",
    "            print('Validation loss decreased ({:.6f} --> {:.6f}).  Saving model ...'.format(\n",
    "            valid_loss_min, validation_loss))\n",
    "            torch.save(model.state_dict(), 'modelo_arritmia.pt')\n",
    "            valid_loss_min = validation_loss\n",
    "\n",
    "    return train_loss_list, valid_loss_list\n"
   ]
  },
  {
   "cell_type": "code",
   "execution_count": 547,
   "id": "a52a0f32",
   "metadata": {
    "execution": {
     "iopub.execute_input": "2022-03-10T04:22:18.533814Z",
     "iopub.status.busy": "2022-03-10T04:22:18.533061Z",
     "iopub.status.idle": "2022-03-10T04:23:46.027053Z",
     "shell.execute_reply": "2022-03-10T04:23:46.026151Z",
     "shell.execute_reply.started": "2022-03-10T04:10:12.050953Z"
    },
    "papermill": {
     "duration": 87.529795,
     "end_time": "2022-03-10T04:23:46.027207",
     "exception": false,
     "start_time": "2022-03-10T04:22:18.497412",
     "status": "completed"
    },
    "tags": []
   },
   "outputs": [
    {
     "name": "stdout",
     "output_type": "stream",
     "text": [
      "Época: 0 \n",
      "Loss Treino: 0.6783814969101036\n",
      "Loss validação: 0.6841912397261589\n",
      "Validation loss decreased (inf --> 0.684191).  Saving model ...\n",
      "Validation loss decreased (0.684191 --> 0.682984).  Saving model ...\n",
      "Validation loss decreased (0.682984 --> 0.682896).  Saving model ...\n",
      "Época: 5 \n",
      "Loss Treino: 0.5375374389643955\n",
      "Loss validação: 0.7795529962355091\n",
      "Época: 10 \n",
      "Loss Treino: 0.5094920757036364\n",
      "Loss validação: 1.1017764683692686\n",
      "Época: 15 \n",
      "Loss Treino: 0.45151854533664026\n",
      "Loss validação: 1.2566432137643138\n",
      "Época: 20 \n",
      "Loss Treino: 0.40450486644406264\n",
      "Loss validação: 1.8716582564384707\n",
      "Época: 25 \n",
      "Loss Treino: 0.3994709009400942\n",
      "Loss validação: 2.1992274738127184\n",
      "Época: 30 \n",
      "Loss Treino: 0.41128979610546473\n",
      "Loss validação: 2.6537092870281587\n",
      "Época: 35 \n",
      "Loss Treino: 0.331390255519887\n",
      "Loss validação: 1.6954123655442268\n",
      "Época: 40 \n",
      "Loss Treino: 0.40310718112140853\n",
      "Loss validação: 2.3629575233305653\n",
      "Época: 45 \n",
      "Loss Treino: 0.33797995163808053\n",
      "Loss validação: 2.374015283276958\n",
      "Época: 50 \n",
      "Loss Treino: 0.3017453333274877\n",
      "Loss validação: 2.014685669560586\n",
      "Época: 55 \n",
      "Loss Treino: 0.28495768680735983\n",
      "Loss validação: 2.1631869006926014\n",
      "Época: 60 \n",
      "Loss Treino: 0.4312804683256057\n",
      "Loss validação: 3.3319738354221466\n",
      "Época: 65 \n",
      "Loss Treino: 0.43523851859534946\n",
      "Loss validação: 1.8113259243196056\n",
      "Época: 70 \n",
      "Loss Treino: 0.31634848830381546\n",
      "Loss validação: 2.5864783566997898\n",
      "Época: 75 \n",
      "Loss Treino: 0.28043882311923024\n",
      "Loss validação: 1.96791164336666\n",
      "Época: 80 \n",
      "Loss Treino: 0.432533758825563\n",
      "Loss validação: 3.71351895670737\n",
      "Época: 85 \n",
      "Loss Treino: 0.2545685697597201\n",
      "Loss validação: 1.7585656273749566\n",
      "Época: 90 \n",
      "Loss Treino: 0.2787907365395412\n",
      "Loss validação: 3.204002849824967\n",
      "Época: 95 \n",
      "Loss Treino: 0.3212011828503623\n",
      "Loss validação: 3.343374292004493\n"
     ]
    }
   ],
   "source": [
    "trained_data, validated_data = train_model(100)"
   ]
  },
  {
   "cell_type": "code",
   "execution_count": 548,
   "id": "f2658edc",
   "metadata": {
    "execution": {
     "iopub.execute_input": "2022-03-10T04:23:46.109315Z",
     "iopub.status.busy": "2022-03-10T04:23:46.108183Z",
     "iopub.status.idle": "2022-03-10T04:23:46.111256Z",
     "shell.execute_reply": "2022-03-10T04:23:46.111644Z",
     "shell.execute_reply.started": "2022-03-10T04:11:40.594202Z"
    },
    "papermill": {
     "duration": 0.045913,
     "end_time": "2022-03-10T04:23:46.111795",
     "exception": false,
     "start_time": "2022-03-10T04:23:46.065882",
     "status": "completed"
    },
    "tags": []
   },
   "outputs": [
    {
     "data": {
      "text/plain": [
       "100"
      ]
     },
     "execution_count": 548,
     "metadata": {},
     "output_type": "execute_result"
    }
   ],
   "source": [
    "len(trained_data)"
   ]
  },
  {
   "cell_type": "code",
   "execution_count": 549,
   "id": "160e30a0",
   "metadata": {
    "execution": {
     "iopub.execute_input": "2022-03-10T04:23:46.210863Z",
     "iopub.status.busy": "2022-03-10T04:23:46.209630Z",
     "iopub.status.idle": "2022-03-10T04:23:46.376905Z",
     "shell.execute_reply": "2022-03-10T04:23:46.376247Z",
     "shell.execute_reply.started": "2022-03-10T04:11:42.678802Z"
    },
    "papermill": {
     "duration": 0.22691,
     "end_time": "2022-03-10T04:23:46.377022",
     "exception": false,
     "start_time": "2022-03-10T04:23:46.150112",
     "status": "completed"
    },
    "tags": []
   },
   "outputs": [
    {
     "data": {
      "text/plain": [
       "[<matplotlib.lines.Line2D at 0x7fc4fc60ae20>]"
      ]
     },
     "execution_count": 549,
     "metadata": {},
     "output_type": "execute_result"
    },
    {
     "data": {
      "image/png": "[encoded data removed]",
      "text/plain": [
       "<Figure size 432x288 with 1 Axes>"
      ]
     },
     "metadata": {
      "needs_background": "light"
     },
     "output_type": "display_data"
    }
   ],
   "source": [
    "plt.plot(trained_data)"
   ]
  },
  {
   "cell_type": "code",
   "execution_count": 550,
   "id": "052c81e2",
   "metadata": {},
   "outputs": [
    {
     "data": {
      "text/plain": [
       "[<matplotlib.lines.Line2D at 0x7fc4fc565d60>]"
      ]
     },
     "execution_count": 550,
     "metadata": {},
     "output_type": "execute_result"
    },
    {
     "data": {
      "image/png": "[encoded data removed]",
      "text/plain": [
       "<Figure size 432x288 with 1 Axes>"
      ]
     },
     "metadata": {
      "needs_background": "light"
     },
     "output_type": "display_data"
    }
   ],
   "source": [
    "plt.plot(validated_data)"
   ]
  },
  {
   "cell_type": "markdown",
   "id": "ef0a295c",
   "metadata": {
    "papermill": {
     "duration": 0.039046,
     "end_time": "2022-03-10T04:23:46.455970",
     "exception": false,
     "start_time": "2022-03-10T04:23:46.416924",
     "status": "completed"
    },
    "tags": []
   },
   "source": [
    "## Teste"
   ]
  },
  {
   "cell_type": "code",
   "execution_count": 551,
   "id": "5e99d7bc",
   "metadata": {
    "execution": {
     "iopub.execute_input": "2022-03-10T04:23:46.538387Z",
     "iopub.status.busy": "2022-03-10T04:23:46.537508Z",
     "iopub.status.idle": "2022-03-10T04:23:47.400718Z",
     "shell.execute_reply": "2022-03-10T04:23:47.400248Z",
     "shell.execute_reply.started": "2022-03-10T04:11:52.271377Z"
    },
    "papermill": {
     "duration": 0.905809,
     "end_time": "2022-03-10T04:23:47.400863",
     "exception": false,
     "start_time": "2022-03-10T04:23:46.495054",
     "status": "completed"
    },
    "tags": []
   },
   "outputs": [],
   "source": [
    "from sklearn.metrics import confusion_matrix, accuracy_score"
   ]
  },
  {
   "cell_type": "code",
   "execution_count": 552,
   "id": "3a4cf12e",
   "metadata": {
    "execution": {
     "iopub.execute_input": "2022-03-10T04:23:47.488727Z",
     "iopub.status.busy": "2022-03-10T04:23:47.487995Z",
     "iopub.status.idle": "2022-03-10T04:23:47.490430Z",
     "shell.execute_reply": "2022-03-10T04:23:47.490041Z",
     "shell.execute_reply.started": "2022-03-10T04:11:55.531383Z"
    },
    "papermill": {
     "duration": 0.050225,
     "end_time": "2022-03-10T04:23:47.490534",
     "exception": false,
     "start_time": "2022-03-10T04:23:47.440309",
     "status": "completed"
    },
    "tags": []
   },
   "outputs": [],
   "source": [
    "# Matriz de confusão\n",
    "def createCM(loader,model,nClasses):\n",
    "  model.eval()\n",
    "\n",
    "  accuracy = 0\n",
    "  CM = np.zeros((nClasses,nClasses))\n",
    "  y_pred = []\n",
    "  y_true = []\n",
    "\n",
    "  for sample1, target1 in loader:\n",
    "\n",
    "    if train_on_gpu:\n",
    "      sample1, target1 = sample1.cuda(), target1.cuda()\n",
    "      model.cuda()\n",
    "\n",
    "    prediction = model(sample1)\n",
    "    outputsClass = torch.argmax(prediction, dim=1)\n",
    "\n",
    "    if train_on_gpu:\n",
    "      yt = np.array([t.cpu().numpy() for t in outputsClass])\n",
    "      yp = np.array([t.cpu().numpy() for t in target1])\n",
    "\n",
    "    else:\n",
    "      yt = np.array([t.numpy() for t in outputsClass])\n",
    "      yp = np.array([t.numpy() for t in target1])\n",
    "      \n",
    "    for x in range(len(yp)):\n",
    "      y_pred.append(yp.item(x))\n",
    "    for x in range(len(yt)):\n",
    "      y_true.append(yt.item(x))\n",
    "\n",
    "  CM = confusion_matrix(y_true, y_pred)\n",
    "  accuracy = accuracy_score(y_true, y_pred)\n",
    "  return CM, accuracy"
   ]
  },
  {
   "cell_type": "code",
   "execution_count": 553,
   "id": "3c86c375",
   "metadata": {
    "execution": {
     "iopub.execute_input": "2022-03-10T04:23:47.572467Z",
     "iopub.status.busy": "2022-03-10T04:23:47.571754Z",
     "iopub.status.idle": "2022-03-10T04:23:47.686663Z",
     "shell.execute_reply": "2022-03-10T04:23:47.686262Z",
     "shell.execute_reply.started": "2022-03-10T04:11:58.430451Z"
    },
    "papermill": {
     "duration": 0.157364,
     "end_time": "2022-03-10T04:23:47.686788",
     "exception": false,
     "start_time": "2022-03-10T04:23:47.529424",
     "status": "completed"
    },
    "tags": []
   },
   "outputs": [],
   "source": [
    "matriz, acuracia = createCM(test_loader,model,2)"
   ]
  },
  {
   "cell_type": "code",
   "execution_count": 554,
   "id": "a6dc4da7",
   "metadata": {
    "execution": {
     "iopub.execute_input": "2022-03-10T04:23:47.771982Z",
     "iopub.status.busy": "2022-03-10T04:23:47.771348Z",
     "iopub.status.idle": "2022-03-10T04:23:47.773897Z",
     "shell.execute_reply": "2022-03-10T04:23:47.774350Z",
     "shell.execute_reply.started": "2022-03-10T04:12:00.573404Z"
    },
    "papermill": {
     "duration": 0.047854,
     "end_time": "2022-03-10T04:23:47.774476",
     "exception": false,
     "start_time": "2022-03-10T04:23:47.726622",
     "status": "completed"
    },
    "tags": []
   },
   "outputs": [
    {
     "data": {
      "text/plain": [
       "array([[  1,   0],\n",
       "       [333, 241]])"
      ]
     },
     "execution_count": 554,
     "metadata": {},
     "output_type": "execute_result"
    }
   ],
   "source": [
    "matriz"
   ]
  },
  {
   "cell_type": "code",
   "execution_count": 555,
   "id": "dfb017b2",
   "metadata": {
    "execution": {
     "iopub.execute_input": "2022-03-10T04:23:47.860109Z",
     "iopub.status.busy": "2022-03-10T04:23:47.859418Z",
     "iopub.status.idle": "2022-03-10T04:23:47.864016Z",
     "shell.execute_reply": "2022-03-10T04:23:47.863584Z",
     "shell.execute_reply.started": "2022-03-10T04:12:03.237451Z"
    },
    "papermill": {
     "duration": 0.049351,
     "end_time": "2022-03-10T04:23:47.864132",
     "exception": false,
     "start_time": "2022-03-10T04:23:47.814781",
     "status": "completed"
    },
    "tags": []
   },
   "outputs": [
    {
     "data": {
      "text/plain": [
       "0.42086956521739133"
      ]
     },
     "execution_count": 555,
     "metadata": {},
     "output_type": "execute_result"
    }
   ],
   "source": [
    "acuracia"
   ]
  },
  {
   "cell_type": "code",
   "execution_count": 556,
   "id": "730cb955",
   "metadata": {
    "papermill": {
     "duration": 0.040528,
     "end_time": "2022-03-10T04:23:47.944991",
     "exception": false,
     "start_time": "2022-03-10T04:23:47.904463",
     "status": "completed"
    },
    "tags": []
   },
   "outputs": [
    {
     "data": {
      "text/plain": [
       "Net(\n",
       "  (conv1): Conv1d(1, 3, kernel_size=(102,), stride=(1,), padding=(1,))\n",
       "  (conv2): Conv1d(3, 10, kernel_size=(24,), stride=(1,), padding=(1,))\n",
       "  (conv3): Conv1d(10, 10, kernel_size=(11,), stride=(1,), padding=(1,))\n",
       "  (conv4): Conv1d(10, 10, kernel_size=(9,), stride=(1,), padding=(1,))\n",
       "  (pool): MaxPool1d(kernel_size=2, stride=2, padding=0, dilation=1, ceil_mode=False)\n",
       "  (fc1): Linear(in_features=60, out_features=30, bias=True)\n",
       "  (fc2): Linear(in_features=30, out_features=10, bias=True)\n",
       "  (fc3): Linear(in_features=10, out_features=2, bias=True)\n",
       "  (batch1): BatchNorm1d(10, eps=1e-05, momentum=0.1, affine=False, track_running_stats=True)\n",
       ")"
      ]
     },
     "execution_count": 556,
     "metadata": {},
     "output_type": "execute_result"
    }
   ],
   "source": [
    "model_saved = Net()\n",
    "model.load_state_dict(torch.load('modelo_arritmia.pt'))\n",
    "model.eval()"
   ]
  },
  {
   "cell_type": "code",
   "execution_count": 557,
   "id": "9896c8f5",
   "metadata": {},
   "outputs": [
    {
     "data": {
      "text/plain": [
       "array([[334, 241],\n",
       "       [  0,   0]])"
      ]
     },
     "execution_count": 557,
     "metadata": {},
     "output_type": "execute_result"
    }
   ],
   "source": [
    "matriz, acuracia = createCM(test_loader,model,2)\n",
    "matriz"
   ]
  },
  {
   "cell_type": "code",
   "execution_count": 558,
   "id": "da37d922",
   "metadata": {},
   "outputs": [
    {
     "data": {
      "text/plain": [
       "0.5808695652173913"
      ]
     },
     "execution_count": 558,
     "metadata": {},
     "output_type": "execute_result"
    }
   ],
   "source": [
    "acuracia"
   ]
  },
  {
   "cell_type": "code",
   "execution_count": null,
   "id": "78c8d76f",
   "metadata": {},
   "outputs": [],
   "source": []
  }
 ],
 "metadata": {
  "kernelspec": {
   "display_name": "Python 3 (ipykernel)",
   "language": "python",
   "name": "python3"
  },
  "language_info": {
   "codemirror_mode": {
    "name": "ipython",
    "version": 3
   },
   "file_extension": ".py",
   "mimetype": "text/x-python",
   "name": "python",
   "nbconvert_exporter": "python",
   "pygments_lexer": "ipython3",
   "version": "3.9.7"
  },
  "papermill": {
   "default_parameters": {},
   "duration": 105.905308,
   "end_time": "2022-03-10T04:23:49.297659",
   "environment_variables": {},
   "exception": null,
   "input_path": "__notebook__.ipynb",
   "output_path": "__notebook__.ipynb",
   "parameters": {},
   "start_time": "2022-03-10T04:22:03.392351",
   "version": "2.3.3"
  }
 },
 "nbformat": 4,
 "nbformat_minor": 5
}
