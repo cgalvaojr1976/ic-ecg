{
 "cells": [
  {
   "cell_type": "markdown",
   "id": "5653055e",
   "metadata": {},
   "source": [
    "# Detecção de Infarto do miocárdio usando sinais ECG\n",
    "\n",
    "## Artigo\n",
    "O presente documento é a representação da rede neural do artigo: \"Application of deep convolutional neural network for automated detection of myocardial infarction using ECG signals\". Retirado em: <a href= \"https://www.sciencedirect.com/science/article/pii/S0020025517308009\"> link </a>"
   ]
  },
  {
   "cell_type": "code",
   "execution_count": null,
   "id": "cea6ea40",
   "metadata": {},
   "outputs": [],
   "source": []
  }
 ],
 "metadata": {
  "kernelspec": {
   "display_name": "Python 3 (ipykernel)",
   "language": "python",
   "name": "python3"
  },
  "language_info": {
   "codemirror_mode": {
    "name": "ipython",
    "version": 3
   },
   "file_extension": ".py",
   "mimetype": "text/x-python",
   "name": "python",
   "nbconvert_exporter": "python",
   "pygments_lexer": "ipython3",
   "version": "3.8.12"
  }
 },
 "nbformat": 4,
 "nbformat_minor": 5
}
