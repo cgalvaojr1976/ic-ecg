{
 "cells": [
  {
   "cell_type": "markdown",
   "metadata": {},
   "source": [
    "# Exploratory\n",
    "\n",
    "Visualizar dados relevantes das arritmias"
   ]
  },
  {
   "cell_type": "code",
   "execution_count": 1,
   "metadata": {},
   "outputs": [],
   "source": [
    "import pandas as pd\n",
    "import matplotlib.pyplot as plt"
   ]
  },
  {
   "cell_type": "code",
   "execution_count": 5,
   "metadata": {},
   "outputs": [],
   "source": [
    "df = pd.read_csv('/home/matheus/Documentos/Facul/IC/ECG_classification/ic-ecg/datasets/Total.csv')"
   ]
  },
  {
   "cell_type": "code",
   "execution_count": 6,
   "metadata": {},
   "outputs": [],
   "source": [
    "arritmias = [270492004, 164889003, 164890007, 426627000, 713427006,\n",
    "713426002,445118002,39732003,164909002,251146004,698252002,10370003,\n",
    "284470004,427172004,164947007,111975006,164917005,47665007,59118001,\n",
    "427393009,426177001,426783006,427084000,63593006,164934002,59931005,17338001]"
   ]
  },
  {
   "cell_type": "code",
   "execution_count": 10,
   "metadata": {},
   "outputs": [
    {
     "data": {
      "text/html": [
       "<div>\n",
       "<style scoped>\n",
       "    .dataframe tbody tr th:only-of-type {\n",
       "        vertical-align: middle;\n",
       "    }\n",
       "\n",
       "    .dataframe tbody tr th {\n",
       "        vertical-align: top;\n",
       "    }\n",
       "\n",
       "    .dataframe thead th {\n",
       "        text-align: right;\n",
       "    }\n",
       "</style>\n",
       "<table border=\"1\" class=\"dataframe\">\n",
       "  <thead>\n",
       "    <tr style=\"text-align: right;\">\n",
       "      <th></th>\n",
       "      <th>fs</th>\n",
       "      <th>sig_len</th>\n",
       "      <th>n_sig</th>\n",
       "      <th>base_date</th>\n",
       "      <th>base_time</th>\n",
       "      <th>units</th>\n",
       "      <th>sig_name</th>\n",
       "      <th>Age</th>\n",
       "      <th>Sex</th>\n",
       "      <th>Dx</th>\n",
       "      <th>Rx</th>\n",
       "      <th>Hx</th>\n",
       "      <th>Sx</th>\n",
       "      <th>arquivos</th>\n",
       "      <th>base</th>\n",
       "    </tr>\n",
       "  </thead>\n",
       "  <tbody>\n",
       "    <tr>\n",
       "      <th>132612</th>\n",
       "      <td>500</td>\n",
       "      <td>5000</td>\n",
       "      <td>1</td>\n",
       "      <td>NaN</td>\n",
       "      <td>00:00:04</td>\n",
       "      <td>['mv']</td>\n",
       "      <td>['II']</td>\n",
       "      <td>62.0</td>\n",
       "      <td>Male</td>\n",
       "      <td>164884008</td>\n",
       "      <td>Unknown</td>\n",
       "      <td>Unknown</td>\n",
       "      <td>Unknown</td>\n",
       "      <td>HR13504</td>\n",
       "      <td>WFDB_PTBXL</td>\n",
       "    </tr>\n",
       "    <tr>\n",
       "      <th>132613</th>\n",
       "      <td>500</td>\n",
       "      <td>5000</td>\n",
       "      <td>1</td>\n",
       "      <td>NaN</td>\n",
       "      <td>00:00:04</td>\n",
       "      <td>['mv']</td>\n",
       "      <td>['II']</td>\n",
       "      <td>62.0</td>\n",
       "      <td>Male</td>\n",
       "      <td>426783006</td>\n",
       "      <td>Unknown</td>\n",
       "      <td>Unknown</td>\n",
       "      <td>Unknown</td>\n",
       "      <td>HR13504</td>\n",
       "      <td>WFDB_PTBXL</td>\n",
       "    </tr>\n",
       "  </tbody>\n",
       "</table>\n",
       "</div>"
      ],
      "text/plain": [
       "         fs  sig_len  n_sig  base_date base_time   units sig_name   Age   Sex  \\\n",
       "132612  500     5000      1        NaN  00:00:04  ['mv']   ['II']  62.0  Male   \n",
       "132613  500     5000      1        NaN  00:00:04  ['mv']   ['II']  62.0  Male   \n",
       "\n",
       "               Dx       Rx       Hx       Sx arquivos        base  \n",
       "132612  164884008  Unknown  Unknown  Unknown  HR13504  WFDB_PTBXL  \n",
       "132613  426783006  Unknown  Unknown  Unknown  HR13504  WFDB_PTBXL  "
      ]
     },
     "execution_count": 10,
     "metadata": {},
     "output_type": "execute_result"
    }
   ],
   "source": [
    "df.loc[df['arquivos'] == 'HR13504']"
   ]
  },
  {
   "cell_type": "code",
   "execution_count": 4,
   "metadata": {},
   "outputs": [
    {
     "data": {
      "text/plain": [
       "27"
      ]
     },
     "execution_count": 4,
     "metadata": {},
     "output_type": "execute_result"
    }
   ],
   "source": [
    "len(arritmias)"
   ]
  },
  {
   "cell_type": "code",
   "execution_count": 5,
   "metadata": {},
   "outputs": [
    {
     "data": {
      "text/html": [
       "<div>\n",
       "<style scoped>\n",
       "    .dataframe tbody tr th:only-of-type {\n",
       "        vertical-align: middle;\n",
       "    }\n",
       "\n",
       "    .dataframe tbody tr th {\n",
       "        vertical-align: top;\n",
       "    }\n",
       "\n",
       "    .dataframe thead th {\n",
       "        text-align: right;\n",
       "    }\n",
       "</style>\n",
       "<table border=\"1\" class=\"dataframe\">\n",
       "  <thead>\n",
       "    <tr style=\"text-align: right;\">\n",
       "      <th></th>\n",
       "      <th>fs</th>\n",
       "      <th>sig_len</th>\n",
       "      <th>n_sig</th>\n",
       "      <th>base_date</th>\n",
       "      <th>base_time</th>\n",
       "      <th>units</th>\n",
       "      <th>sig_name</th>\n",
       "      <th>Age</th>\n",
       "      <th>Sex</th>\n",
       "      <th>Dx</th>\n",
       "      <th>Rx</th>\n",
       "      <th>Hx</th>\n",
       "      <th>Sx</th>\n",
       "      <th>arquivos</th>\n",
       "      <th>base</th>\n",
       "    </tr>\n",
       "  </thead>\n",
       "  <tbody>\n",
       "    <tr>\n",
       "      <th>0</th>\n",
       "      <td>500</td>\n",
       "      <td>5000</td>\n",
       "      <td>1</td>\n",
       "      <td>NaN</td>\n",
       "      <td>00:00:24</td>\n",
       "      <td>['mV']</td>\n",
       "      <td>['II']</td>\n",
       "      <td>47.0</td>\n",
       "      <td>Female</td>\n",
       "      <td>426177001</td>\n",
       "      <td>Unknown</td>\n",
       "      <td>Unknown</td>\n",
       "      <td>Unknown</td>\n",
       "      <td>JS04442</td>\n",
       "      <td>WFDB_ChapmanShaoxing</td>\n",
       "    </tr>\n",
       "    <tr>\n",
       "      <th>1</th>\n",
       "      <td>500</td>\n",
       "      <td>5000</td>\n",
       "      <td>1</td>\n",
       "      <td>NaN</td>\n",
       "      <td>00:00:23</td>\n",
       "      <td>['mV']</td>\n",
       "      <td>['II']</td>\n",
       "      <td>41.0</td>\n",
       "      <td>Female</td>\n",
       "      <td>426177001</td>\n",
       "      <td>Unknown</td>\n",
       "      <td>Unknown</td>\n",
       "      <td>Unknown</td>\n",
       "      <td>JS00992</td>\n",
       "      <td>WFDB_ChapmanShaoxing</td>\n",
       "    </tr>\n",
       "    <tr>\n",
       "      <th>2</th>\n",
       "      <td>500</td>\n",
       "      <td>5000</td>\n",
       "      <td>1</td>\n",
       "      <td>NaN</td>\n",
       "      <td>00:00:23</td>\n",
       "      <td>['mV']</td>\n",
       "      <td>['II']</td>\n",
       "      <td>68.0</td>\n",
       "      <td>Female</td>\n",
       "      <td>427084000</td>\n",
       "      <td>Unknown</td>\n",
       "      <td>Unknown</td>\n",
       "      <td>Unknown</td>\n",
       "      <td>JS02338</td>\n",
       "      <td>WFDB_ChapmanShaoxing</td>\n",
       "    </tr>\n",
       "    <tr>\n",
       "      <th>3</th>\n",
       "      <td>500</td>\n",
       "      <td>5000</td>\n",
       "      <td>1</td>\n",
       "      <td>NaN</td>\n",
       "      <td>00:00:23</td>\n",
       "      <td>['mV']</td>\n",
       "      <td>['II']</td>\n",
       "      <td>41.0</td>\n",
       "      <td>Female</td>\n",
       "      <td>426177001</td>\n",
       "      <td>Unknown</td>\n",
       "      <td>Unknown</td>\n",
       "      <td>Unknown</td>\n",
       "      <td>JS01381</td>\n",
       "      <td>WFDB_ChapmanShaoxing</td>\n",
       "    </tr>\n",
       "    <tr>\n",
       "      <th>4</th>\n",
       "      <td>500</td>\n",
       "      <td>5000</td>\n",
       "      <td>1</td>\n",
       "      <td>NaN</td>\n",
       "      <td>00:00:23</td>\n",
       "      <td>['mV']</td>\n",
       "      <td>['II']</td>\n",
       "      <td>70.0</td>\n",
       "      <td>Male</td>\n",
       "      <td>426177001</td>\n",
       "      <td>Unknown</td>\n",
       "      <td>Unknown</td>\n",
       "      <td>Unknown</td>\n",
       "      <td>JS02487</td>\n",
       "      <td>WFDB_ChapmanShaoxing</td>\n",
       "    </tr>\n",
       "  </tbody>\n",
       "</table>\n",
       "</div>"
      ],
      "text/plain": [
       "    fs  sig_len  n_sig  base_date base_time   units sig_name   Age     Sex  \\\n",
       "0  500     5000      1        NaN  00:00:24  ['mV']   ['II']  47.0  Female   \n",
       "1  500     5000      1        NaN  00:00:23  ['mV']   ['II']  41.0  Female   \n",
       "2  500     5000      1        NaN  00:00:23  ['mV']   ['II']  68.0  Female   \n",
       "3  500     5000      1        NaN  00:00:23  ['mV']   ['II']  41.0  Female   \n",
       "4  500     5000      1        NaN  00:00:23  ['mV']   ['II']  70.0    Male   \n",
       "\n",
       "          Dx       Rx       Hx       Sx arquivos                  base  \n",
       "0  426177001  Unknown  Unknown  Unknown  JS04442  WFDB_ChapmanShaoxing  \n",
       "1  426177001  Unknown  Unknown  Unknown  JS00992  WFDB_ChapmanShaoxing  \n",
       "2  427084000  Unknown  Unknown  Unknown  JS02338  WFDB_ChapmanShaoxing  \n",
       "3  426177001  Unknown  Unknown  Unknown  JS01381  WFDB_ChapmanShaoxing  \n",
       "4  426177001  Unknown  Unknown  Unknown  JS02487  WFDB_ChapmanShaoxing  "
      ]
     },
     "execution_count": 5,
     "metadata": {},
     "output_type": "execute_result"
    }
   ],
   "source": [
    "df.head()"
   ]
  },
  {
   "cell_type": "code",
   "execution_count": 6,
   "metadata": {},
   "outputs": [
    {
     "name": "stdout",
     "output_type": "stream",
     "text": [
      "7\n"
     ]
    }
   ],
   "source": [
    "a = 0\n",
    "for x in range(10):\n",
    "    if df['Dx'][x] == 426177001:\n",
    "        a +=1\n",
    "print(a)"
   ]
  },
  {
   "cell_type": "code",
   "execution_count": 7,
   "metadata": {},
   "outputs": [
    {
     "data": {
      "text/plain": [
       "426177001"
      ]
     },
     "execution_count": 7,
     "metadata": {},
     "output_type": "execute_result"
    }
   ],
   "source": [
    "df['Dx'][0]"
   ]
  },
  {
   "cell_type": "code",
   "execution_count": 8,
   "metadata": {},
   "outputs": [],
   "source": [
    "frequencias = {}\n",
    "str_arritmia = [str(x) for x in arritmias]\n",
    "\n",
    "for x in str_arritmia:\n",
    "    frequencias[x] = 0"
   ]
  },
  {
   "cell_type": "code",
   "execution_count": 9,
   "metadata": {},
   "outputs": [
    {
     "data": {
      "text/plain": [
       "{'270492004': 0,\n",
       " '164889003': 0,\n",
       " '164890007': 0,\n",
       " '426627000': 0,\n",
       " '713427006': 0,\n",
       " '713426002': 0,\n",
       " '445118002': 0,\n",
       " '39732003': 0,\n",
       " '164909002': 0,\n",
       " '251146004': 0,\n",
       " '698252002': 0,\n",
       " '10370003': 0,\n",
       " '284470004': 0,\n",
       " '427172004': 0,\n",
       " '164947007': 0,\n",
       " '111975006': 0,\n",
       " '164917005': 0,\n",
       " '47665007': 0,\n",
       " '59118001': 0,\n",
       " '427393009': 0,\n",
       " '426177001': 0,\n",
       " '426783006': 0,\n",
       " '427084000': 0,\n",
       " '63593006': 0,\n",
       " '164934002': 0,\n",
       " '59931005': 0,\n",
       " '17338001': 0}"
      ]
     },
     "execution_count": 9,
     "metadata": {},
     "output_type": "execute_result"
    }
   ],
   "source": [
    "frequencias"
   ]
  },
  {
   "cell_type": "code",
   "execution_count": 10,
   "metadata": {},
   "outputs": [],
   "source": [
    "for x in range(len(df)):\n",
    "    if str(df['Dx'][x]) in frequencias:\n",
    "        frequencias[str(df['Dx'][x])] +=1"
   ]
  },
  {
   "cell_type": "code",
   "execution_count": 11,
   "metadata": {},
   "outputs": [
    {
     "data": {
      "text/plain": [
       "{'270492004': 2765,\n",
       " '164889003': 4685,\n",
       " '164890007': 8188,\n",
       " '426627000': 289,\n",
       " '713427006': 1751,\n",
       " '713426002': 1450,\n",
       " '445118002': 2006,\n",
       " '39732003': 6691,\n",
       " '164909002': 1050,\n",
       " '251146004': 1225,\n",
       " '698252002': 1565,\n",
       " '10370003': 1481,\n",
       " '284470004': 2402,\n",
       " '427172004': 1279,\n",
       " '164947007': 392,\n",
       " '111975006': 516,\n",
       " '164917005': 1612,\n",
       " '47665007': 1197,\n",
       " '59118001': 2509,\n",
       " '427393009': 3335,\n",
       " '426177001': 17241,\n",
       " '426783006': 27219,\n",
       " '427084000': 8396,\n",
       " '63593006': 223,\n",
       " '164934002': 9410,\n",
       " '59931005': 3177,\n",
       " '17338001': 302}"
      ]
     },
     "execution_count": 11,
     "metadata": {},
     "output_type": "execute_result"
    }
   ],
   "source": [
    "frequencias"
   ]
  }
 ],
 "metadata": {
  "interpreter": {
   "hash": "916dbcbb3f70747c44a77c7bcd40155683ae19c65e1c03b4aa3499c5328201f1"
  },
  "kernelspec": {
   "display_name": "Python 3 (ipykernel)",
   "language": "python",
   "name": "python3"
  },
  "language_info": {
   "codemirror_mode": {
    "name": "ipython",
    "version": 3
   },
   "file_extension": ".py",
   "mimetype": "text/x-python",
   "name": "python",
   "nbconvert_exporter": "python",
   "pygments_lexer": "ipython3",
   "version": "3.9.7"
  }
 },
 "nbformat": 4,
 "nbformat_minor": 2
}
