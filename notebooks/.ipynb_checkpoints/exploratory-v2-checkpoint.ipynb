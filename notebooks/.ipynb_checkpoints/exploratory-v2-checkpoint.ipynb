{
 "cells": [
  {
   "cell_type": "markdown",
   "metadata": {},
   "source": [
    "# Exploratory Data Analysis"
   ]
  },
  {
   "cell_type": "code",
   "execution_count": null,
   "metadata": {},
   "outputs": [],
   "source": [
    "import pandas as pd\n",
    "import matplotlib.pyplot as plt\n",
    "import os\n",
    "import wfdb\n",
    "import numpy as np\n",
    "from collections import Counter"
   ]
  },
  {
   "cell_type": "code",
   "execution_count": null,
   "metadata": {},
   "outputs": [],
   "source": [
    "root_dataset_path = '../all_data/'"
   ]
  },
  {
   "cell_type": "code",
   "execution_count": null,
   "metadata": {},
   "outputs": [
    {
     "name": "stdout",
     "output_type": "stream",
     "text": [
      "error on ../all_data/WFDB_PTBXL/HR04607.hea\n",
      "['Age: 60', 'Sex: Male', 'Dx: 164865005,164951009,39732003,426783006,445118002', 'Rx: Unknown', 'Hx: Unknown', 'Sx: Unknown']\n",
      "error on ../all_data/WFDB_ChapmanShaoxing/JS10543.hea\n",
      "['Age: 54', 'Sex: Male', 'Dx: 426177001', 'Rx: Unknown', 'Hx: Unknown', 'Sx: Unknown']\n",
      "error on ../all_data/WFDB_ChapmanShaoxing/JS07964.hea\n",
      "['Age: 42', 'Sex: Female', 'Dx: 426761007', 'Rx: Unknown', 'Hx: Unknown', 'Sx: Unknown']\n",
      "error on ../all_data/WFDB_ChapmanShaoxing/JS07650.hea\n",
      "['Age: 72', 'Sex: Male', 'Dx: 164890007,164934002', 'Rx: Unknown', 'Hx: Unknown', 'Sx: Unknown']\n",
      "error on ../all_data/WFDB_ChapmanShaoxing/JS09717.hea\n",
      "['Age: 34', 'Sex: Male', 'Dx: 426177001', 'Rx: Unknown', 'Hx: Unknown', 'Sx: Unknown']\n",
      "error on ../all_data/WFDB_ChapmanShaoxing/JS06061.hea\n",
      "['Age: 82', 'Sex: Male', 'Dx: 426177001,59118001,164934002', 'Rx: Unknown', 'Hx: Unknown', 'Sx: Unknown']\n",
      "error on ../all_data/WFDB_ChapmanShaoxing/JS10492.hea\n",
      "['Age: 52', 'Sex: Female', 'Dx: 426783006', 'Rx: Unknown', 'Hx: Unknown', 'Sx: Unknown']\n"
     ]
    }
   ],
   "source": [
    "#create dataframe with:\n",
    "# filename\n",
    "# path\n",
    "# dataset\n",
    "# fs\n",
    "# number of channels\n",
    "# age\n",
    "# gender\n",
    "# Dx\n",
    "list_of_files = []\n",
    "count = 0\n",
    "for (dirpath, dirnames, filenames) in os.walk(root_dataset_path):\n",
    "    print(str(count), dirpath)\n",
    "    if count==10:\n",
    "        break    \n",
    "    for filename in filenames:\n",
    "        count+=1\n",
    "        if filename.endswith('.hea'): \n",
    "            try:\n",
    "                full_path = os.sep.join([dirpath, filename])\n",
    "                record = wfdb.rdrecord(full_path[:-4]) \n",
    "                fs = int(record.__dict__['fs'])\n",
    "                sig_len = record.__dict__['sig_len']\n",
    "                sig_name = record.__dict__['sig_name']\n",
    "                base_time = record.__dict__['base_time']\n",
    "                n_sig = int(record.__dict__['n_sig'])\n",
    "                age = record.__dict__['comments'][0].split()[1]\n",
    "                if age!='NaN':\n",
    "                    age = int(age)\n",
    "                else:\n",
    "                    age = np.nan\n",
    "                gender = record.__dict__['comments'][1].split()[1]\n",
    "                Dx = record.__dict__['comments'][2].split(':')[1]\n",
    "                list_of_files.append([filename, full_path, dirpath.split('/')[2],\n",
    "                                     fs,\n",
    "                                     sig_len,\n",
    "                                     sig_name,\n",
    "                                     base_time,\n",
    "                                     n_sig, \n",
    "                                     age,\n",
    "                                     gender,\n",
    "                                     Dx,\n",
    "                                     len(Dx.split(','))]\n",
    "                                    )\n",
    "            except: \n",
    "                print('error on '+full_path)\n",
    "                print(record.__dict__['comments'])"
   ]
  },
  {
   "cell_type": "code",
   "execution_count": 4,
   "metadata": {},
   "outputs": [],
   "source": [
    "df = pd.DataFrame(list_of_files,columns=['Filename','Path','DataSet','Fs','Sig_len','Sig_name','Base_time','Channels','Age','Gender','Dxs','N_Dxs'])\n",
    "df['Time_lenght']=df['Sig_len']/df['Fs']"
   ]
  },
  {
   "cell_type": "code",
   "execution_count": 5,
   "metadata": {},
   "outputs": [],
   "source": [
    "#df['Dxs'] = df['Dxs'].apply(lambda x:x.replace(' ','').split(','))\n",
    "#df.to_csv('../datasets/Total_v2.csv')"
   ]
  },
  {
   "cell_type": "code",
   "execution_count": null,
   "metadata": {},
   "outputs": [],
   "source": []
  },
  {
   "cell_type": "markdown",
   "metadata": {},
   "source": [
    "# Age distribution"
   ]
  },
  {
   "cell_type": "code",
   "execution_count": 6,
   "metadata": {},
   "outputs": [
    {
     "data": {
      "text/plain": [
       "<AxesSubplot:ylabel='Frequency'>"
      ]
     },
     "execution_count": 6,
     "metadata": {},
     "output_type": "execute_result"
    },
    {
     "data": {
      "image/png": "[encoded data removed]",
      "text/plain": [
       "<Figure size 432x288 with 1 Axes>"
      ]
     },
     "metadata": {
      "needs_background": "light"
     },
     "output_type": "display_data"
    }
   ],
   "source": [
    "df['Age'].plot(kind='hist',bins=25)"
   ]
  },
  {
   "cell_type": "code",
   "execution_count": 7,
   "metadata": {
    "scrolled": true
   },
   "outputs": [
    {
     "data": {
      "image/png": "[encoded data removed]",
      "text/plain": [
       "<Figure size 720x360 with 9 Axes>"
      ]
     },
     "metadata": {
      "needs_background": "light"
     },
     "output_type": "display_data"
    }
   ],
   "source": [
    "Datasets = df['DataSet'].unique()\n",
    "NDataset = len(Datasets)\n",
    "Ncols = 3\n",
    "Nrows = int(np.ceil(NDataset/Ncols))\n",
    "fig, axes = plt.subplots(nrows=Nrows, ncols=Ncols, sharex=True, figsize=(10,5))\n",
    "graph = 0\n",
    "for el in Datasets:\n",
    "    df[df['DataSet']==el]['Age'].plot(kind='hist', bins=25, ax=axes[graph//Ncols,graph%Ncols])\n",
    "    axes[graph//Ncols,graph%Ncols].set_title(el)\n",
    "    graph+=1"
   ]
  },
  {
   "cell_type": "markdown",
   "metadata": {},
   "source": [
    "# Time Length"
   ]
  },
  {
   "cell_type": "code",
   "execution_count": 8,
   "metadata": {},
   "outputs": [
    {
     "name": "stdout",
     "output_type": "stream",
     "text": [
      "Minimum: 5.0 s\n",
      "First quartile: 10.0 s\n",
      "Second quartile: 10.0 s\n",
      "Third quartile: 10.0 s\n",
      "Maximum: 1800.0 s\n"
     ]
    }
   ],
   "source": [
    "print(\"Minimum:\",min(df['Time_lenght'].values),\"s\")\n",
    "print(\"First quartile:\",np.quantile(df['Time_lenght'].values,0.25),\"s\")\n",
    "print(\"Second quartile:\",np.quantile(df['Time_lenght'].values,0.5),\"s\")\n",
    "print(\"Third quartile:\",np.quantile(df['Time_lenght'].values,0.75),\"s\")\n",
    "print(\"Maximum:\",max(df['Time_lenght'].values),\"s\")"
   ]
  },
  {
   "cell_type": "code",
   "execution_count": 9,
   "metadata": {},
   "outputs": [
    {
     "name": "stdout",
     "output_type": "stream",
     "text": [
      "WFDB_PTBXL\n",
      "   Minimum: 10.0\n",
      "   First quartile: 10.0 s\n",
      "   Second quartile: 10.0 s\n",
      "   Third quartile: 10.0 s\n",
      "   Maximum: 10.0\n",
      "WFDB_ChapmanShaoxing\n",
      "   Minimum: 10.0\n",
      "   First quartile: 10.0 s\n",
      "   Second quartile: 10.0 s\n",
      "   Third quartile: 10.0 s\n",
      "   Maximum: 10.0\n",
      "WFDB_PTB\n",
      "   Minimum: 32.0\n",
      "   First quartile: 115.2 s\n",
      "   Second quartile: 115.2 s\n",
      "   Third quartile: 115.2 s\n",
      "   Maximum: 120.012\n",
      "WFDB_Ga\n",
      "   Minimum: 5.0\n",
      "   First quartile: 10.0 s\n",
      "   Second quartile: 10.0 s\n",
      "   Third quartile: 10.0 s\n",
      "   Maximum: 10.0\n",
      "WFDB_Ningbo\n",
      "   Minimum: 10.0\n",
      "   First quartile: 10.0 s\n",
      "   Second quartile: 10.0 s\n",
      "   Third quartile: 10.0 s\n",
      "   Maximum: 10.0\n",
      "WFDB_StPetersburg\n",
      "   Minimum: 1800.0\n",
      "   First quartile: 1800.0 s\n",
      "   Second quartile: 1800.0 s\n",
      "   Third quartile: 1800.0 s\n",
      "   Maximum: 1800.0\n",
      "WFDB_CPSC2018_2\n",
      "   Minimum: 8.0\n",
      "   First quartile: 10.0 s\n",
      "   Second quartile: 12.0 s\n",
      "   Third quartile: 17.0 s\n",
      "   Maximum: 98.0\n",
      "WFDB_CPSC2018\n",
      "   Minimum: 6.0\n",
      "   First quartile: 10.0 s\n",
      "   Second quartile: 12.0 s\n",
      "   Third quartile: 17.0 s\n",
      "   Maximum: 144.0\n"
     ]
    }
   ],
   "source": [
    "Datasets = df['DataSet'].unique()\n",
    "for el in Datasets:\n",
    "    dataset_time_len = df[df['DataSet']==el]['Time_lenght'].values\n",
    "    print(el)\n",
    "    print(\"   Minimum:\",min(dataset_time_len))\n",
    "    print(\"   First quartile:\",np.quantile(dataset_time_len,0.25),\"s\")\n",
    "    print(\"   Second quartile:\",np.quantile(dataset_time_len,0.5),\"s\")\n",
    "    print(\"   Third quartile:\",np.quantile(dataset_time_len,0.75),\"s\")\n",
    "    print(\"   Maximum:\",max(dataset_time_len))\n",
    "    "
   ]
  },
  {
   "cell_type": "markdown",
   "metadata": {},
   "source": [
    "# Gender "
   ]
  },
  {
   "cell_type": "code",
   "execution_count": 10,
   "metadata": {},
   "outputs": [
    {
     "data": {
      "text/plain": [
       "<AxesSubplot:xlabel='Gender'>"
      ]
     },
     "execution_count": 10,
     "metadata": {},
     "output_type": "execute_result"
    },
    {
     "data": {
      "image/png": "[encoded data removed]",
      "text/plain": [
       "<Figure size 432x288 with 1 Axes>"
      ]
     },
     "metadata": {
      "needs_background": "light"
     },
     "output_type": "display_data"
    }
   ],
   "source": [
    "df.groupby(['Gender'])['Age'].count().plot(kind='bar')"
   ]
  },
  {
   "cell_type": "code",
   "execution_count": 11,
   "metadata": {},
   "outputs": [
    {
     "data": {
      "image/png": "[encoded data removed]",
      "text/plain": [
       "<Figure size 720x360 with 9 Axes>"
      ]
     },
     "metadata": {
      "needs_background": "light"
     },
     "output_type": "display_data"
    }
   ],
   "source": [
    "Datasets = df['DataSet'].unique()\n",
    "NDataset = len(Datasets)\n",
    "Ncols = 3\n",
    "Nrows = int(np.ceil(NDataset/Ncols))\n",
    "fig, axes = plt.subplots(nrows=Nrows, ncols=Ncols, sharex=False, figsize=(10,5))\n",
    "graph = 0\n",
    "for el in Datasets:\n",
    "    df[df['DataSet']==el].groupby(['Gender'])['Age'].count().plot(kind='bar',ax=axes[graph//Ncols,graph%Ncols])\n",
    "    axes[graph//Ncols,graph%Ncols].set_title(el)\n",
    "    graph+=1"
   ]
  },
  {
   "cell_type": "markdown",
   "metadata": {},
   "source": [
    "# Files per Dataset "
   ]
  },
  {
   "cell_type": "code",
   "execution_count": 12,
   "metadata": {},
   "outputs": [
    {
     "data": {
      "text/plain": [
       "<AxesSubplot:xlabel='DataSet'>"
      ]
     },
     "execution_count": 12,
     "metadata": {},
     "output_type": "execute_result"
    },
    {
     "data": {
      "image/png": "[encoded data removed]",
      "text/plain": [
       "<Figure size 432x288 with 1 Axes>"
      ]
     },
     "metadata": {
      "needs_background": "light"
     },
     "output_type": "display_data"
    }
   ],
   "source": [
    "df.groupby(['DataSet'])['Path'].count().plot(kind='bar')"
   ]
  },
  {
   "cell_type": "markdown",
   "metadata": {},
   "source": [
    "# Different Dx per file"
   ]
  },
  {
   "cell_type": "code",
   "execution_count": 13,
   "metadata": {},
   "outputs": [
    {
     "data": {
      "text/plain": [
       "<AxesSubplot:xlabel='N_Dxs'>"
      ]
     },
     "execution_count": 13,
     "metadata": {},
     "output_type": "execute_result"
    },
    {
     "data": {
      "image/png": "[encoded data removed]",
      "text/plain": [
       "<Figure size 432x288 with 1 Axes>"
      ]
     },
     "metadata": {
      "needs_background": "light"
     },
     "output_type": "display_data"
    }
   ],
   "source": [
    "df.groupby(['N_Dxs'])['Path'].count().plot(kind='bar')"
   ]
  },
  {
   "cell_type": "markdown",
   "metadata": {},
   "source": [
    "# Dxs"
   ]
  },
  {
   "cell_type": "code",
   "execution_count": 14,
   "metadata": {},
   "outputs": [],
   "source": [
    "list_Dx = []\n",
    "for el in df['Dxs']:\n",
    "    for it in el.split(','):\n",
    "        list_Dx.append(it)\n",
    "unique_Dxs = set(list_Dx)\n",
    "cnt_Dxs = Counter(list_Dx)"
   ]
  },
  {
   "cell_type": "code",
   "execution_count": 15,
   "metadata": {},
   "outputs": [
    {
     "data": {
      "image/png": "[encoded data removed]",
      "text/plain": [
       "<Figure size 864x360 with 1 Axes>"
      ]
     },
     "metadata": {
      "needs_background": "light"
     },
     "output_type": "display_data"
    }
   ],
   "source": [
    "#cnt_Dxs = cnt_Dxs.most_common()\n",
    "#cnt_Dxs.keys()\n",
    "#cnt_Dxs.values()\n",
    "x_values = [tag for tag, count in cnt_Dxs.most_common(40)]\n",
    "y_values = [count for tag, count in cnt_Dxs.most_common(40)]\n",
    "plt.figure(figsize=(12,5))\n",
    "plt.bar(x_values,y_values)\n",
    "plt.xticks(rotation = 90);"
   ]
  },
  {
   "cell_type": "code",
   "execution_count": 16,
   "metadata": {},
   "outputs": [],
   "source": [
    "Dx_project = [270492004, 164889003, 164890007, 426627000, 713427006,\n",
    "713426002,445118002,39732003,164909002,251146004,698252002,10370003,\n",
    "284470004,427172004,164947007,111975006,164917005,47665007,59118001,\n",
    "427393009,426177001,426783006,427084000,63593006,164934002,59931005,17338001]"
   ]
  },
  {
   "cell_type": "code",
   "execution_count": 29,
   "metadata": {},
   "outputs": [],
   "source": [
    "df = pd.read_csv('../datasets/Total_v2.csv')"
   ]
  },
  {
   "cell_type": "code",
   "execution_count": 31,
   "metadata": {},
   "outputs": [],
   "source": [
    "df['Dxs']=df['Dxs'].apply(lambda x:x.replace(' ',''))\n",
    "#df['Dxs']=df['Dxs'].apply(lambda x:','.join(x))"
   ]
  },
  {
   "cell_type": "code",
   "execution_count": 34,
   "metadata": {},
   "outputs": [
    {
     "data": {
      "text/plain": [
       "\"['39732003','426783006','713426002','89792004']\""
      ]
     },
     "execution_count": 34,
     "metadata": {},
     "output_type": "execute_result"
    }
   ],
   "source": [
    "df['Dxs'].values[0]"
   ]
  },
  {
   "cell_type": "code",
   "execution_count": 24,
   "metadata": {},
   "outputs": [],
   "source": [
    "#pd.get_dummies(df,columns=['Dxs'])"
   ]
  },
  {
   "cell_type": "code",
   "execution_count": 30,
   "metadata": {},
   "outputs": [
    {
     "data": {
      "text/html": [
       "<div>\n",
       "<style scoped>\n",
       "    .dataframe tbody tr th:only-of-type {\n",
       "        vertical-align: middle;\n",
       "    }\n",
       "\n",
       "    .dataframe tbody tr th {\n",
       "        vertical-align: top;\n",
       "    }\n",
       "\n",
       "    .dataframe thead th {\n",
       "        text-align: right;\n",
       "    }\n",
       "</style>\n",
       "<table border=\"1\" class=\"dataframe\">\n",
       "  <thead>\n",
       "    <tr style=\"text-align: right;\">\n",
       "      <th></th>\n",
       "      <th>Unnamed: 0</th>\n",
       "      <th>Filename</th>\n",
       "      <th>Path</th>\n",
       "      <th>DataSet</th>\n",
       "      <th>Fs</th>\n",
       "      <th>Sig_len</th>\n",
       "      <th>Sig_name</th>\n",
       "      <th>Base_time</th>\n",
       "      <th>Channels</th>\n",
       "      <th>Age</th>\n",
       "      <th>Gender</th>\n",
       "      <th>Dxs</th>\n",
       "      <th>N_Dxs</th>\n",
       "      <th>Time_lenght</th>\n",
       "    </tr>\n",
       "  </thead>\n",
       "  <tbody>\n",
       "    <tr>\n",
       "      <th>0</th>\n",
       "      <td>0</td>\n",
       "      <td>HR18417.hea</td>\n",
       "      <td>../all_data/WFDB_PTBXL/HR18417.hea</td>\n",
       "      <td>WFDB_PTBXL</td>\n",
       "      <td>500</td>\n",
       "      <td>5000</td>\n",
       "      <td>['I', 'II', 'III', 'aVR', 'aVL', 'aVF', 'V1', ...</td>\n",
       "      <td>00:00:04</td>\n",
       "      <td>12</td>\n",
       "      <td>80.0</td>\n",
       "      <td>Male</td>\n",
       "      <td>['39732003', '426783006', '713426002', '897920...</td>\n",
       "      <td>4</td>\n",
       "      <td>10.000</td>\n",
       "    </tr>\n",
       "    <tr>\n",
       "      <th>1</th>\n",
       "      <td>1</td>\n",
       "      <td>HR10623.hea</td>\n",
       "      <td>../all_data/WFDB_PTBXL/HR10623.hea</td>\n",
       "      <td>WFDB_PTBXL</td>\n",
       "      <td>500</td>\n",
       "      <td>5000</td>\n",
       "      <td>['I', 'II', 'III', 'aVR', 'aVL', 'aVF', 'V1', ...</td>\n",
       "      <td>00:00:04</td>\n",
       "      <td>12</td>\n",
       "      <td>87.0</td>\n",
       "      <td>Female</td>\n",
       "      <td>['164865005', '39732003', '426783006', '445118...</td>\n",
       "      <td>5</td>\n",
       "      <td>10.000</td>\n",
       "    </tr>\n",
       "    <tr>\n",
       "      <th>2</th>\n",
       "      <td>2</td>\n",
       "      <td>HR12324.hea</td>\n",
       "      <td>../all_data/WFDB_PTBXL/HR12324.hea</td>\n",
       "      <td>WFDB_PTBXL</td>\n",
       "      <td>500</td>\n",
       "      <td>5000</td>\n",
       "      <td>['I', 'II', 'III', 'aVR', 'aVL', 'aVF', 'V1', ...</td>\n",
       "      <td>00:00:04</td>\n",
       "      <td>12</td>\n",
       "      <td>91.0</td>\n",
       "      <td>Female</td>\n",
       "      <td>['164865005', '426783006', '428750005', '69825...</td>\n",
       "      <td>4</td>\n",
       "      <td>10.000</td>\n",
       "    </tr>\n",
       "    <tr>\n",
       "      <th>3</th>\n",
       "      <td>3</td>\n",
       "      <td>HR20066.hea</td>\n",
       "      <td>../all_data/WFDB_PTBXL/HR20066.hea</td>\n",
       "      <td>WFDB_PTBXL</td>\n",
       "      <td>500</td>\n",
       "      <td>5000</td>\n",
       "      <td>['I', 'II', 'III', 'aVR', 'aVL', 'aVF', 'V1', ...</td>\n",
       "      <td>00:00:04</td>\n",
       "      <td>12</td>\n",
       "      <td>59.0</td>\n",
       "      <td>Male</td>\n",
       "      <td>['426783006']</td>\n",
       "      <td>1</td>\n",
       "      <td>10.000</td>\n",
       "    </tr>\n",
       "    <tr>\n",
       "      <th>4</th>\n",
       "      <td>4</td>\n",
       "      <td>HR06777.hea</td>\n",
       "      <td>../all_data/WFDB_PTBXL/HR06777.hea</td>\n",
       "      <td>WFDB_PTBXL</td>\n",
       "      <td>500</td>\n",
       "      <td>5000</td>\n",
       "      <td>['I', 'II', 'III', 'aVR', 'aVL', 'aVF', 'V1', ...</td>\n",
       "      <td>00:00:04</td>\n",
       "      <td>12</td>\n",
       "      <td>67.0</td>\n",
       "      <td>Male</td>\n",
       "      <td>['164861001', '164873001', '426783006']</td>\n",
       "      <td>3</td>\n",
       "      <td>10.000</td>\n",
       "    </tr>\n",
       "    <tr>\n",
       "      <th>...</th>\n",
       "      <td>...</td>\n",
       "      <td>...</td>\n",
       "      <td>...</td>\n",
       "      <td>...</td>\n",
       "      <td>...</td>\n",
       "      <td>...</td>\n",
       "      <td>...</td>\n",
       "      <td>...</td>\n",
       "      <td>...</td>\n",
       "      <td>...</td>\n",
       "      <td>...</td>\n",
       "      <td>...</td>\n",
       "      <td>...</td>\n",
       "      <td>...</td>\n",
       "    </tr>\n",
       "    <tr>\n",
       "      <th>88248</th>\n",
       "      <td>88248</td>\n",
       "      <td>A0779.hea</td>\n",
       "      <td>../all_data/WFDB_CPSC2018/A0779.hea</td>\n",
       "      <td>WFDB_CPSC2018</td>\n",
       "      <td>500</td>\n",
       "      <td>5000</td>\n",
       "      <td>['I', 'II', 'III', 'aVR', 'aVL', 'aVF', 'V1', ...</td>\n",
       "      <td>00:00:12</td>\n",
       "      <td>12</td>\n",
       "      <td>60.0</td>\n",
       "      <td>Female</td>\n",
       "      <td>['59118001']</td>\n",
       "      <td>1</td>\n",
       "      <td>10.000</td>\n",
       "    </tr>\n",
       "    <tr>\n",
       "      <th>88249</th>\n",
       "      <td>88249</td>\n",
       "      <td>A4607.hea</td>\n",
       "      <td>../all_data/WFDB_CPSC2018/A4607.hea</td>\n",
       "      <td>WFDB_CPSC2018</td>\n",
       "      <td>500</td>\n",
       "      <td>6717</td>\n",
       "      <td>['I', 'II', 'III', 'aVR', 'aVL', 'aVF', 'V1', ...</td>\n",
       "      <td>00:00:12</td>\n",
       "      <td>12</td>\n",
       "      <td>47.0</td>\n",
       "      <td>Male</td>\n",
       "      <td>['284470004']</td>\n",
       "      <td>1</td>\n",
       "      <td>13.434</td>\n",
       "    </tr>\n",
       "    <tr>\n",
       "      <th>88250</th>\n",
       "      <td>88250</td>\n",
       "      <td>A0648.hea</td>\n",
       "      <td>../all_data/WFDB_CPSC2018/A0648.hea</td>\n",
       "      <td>WFDB_CPSC2018</td>\n",
       "      <td>500</td>\n",
       "      <td>6000</td>\n",
       "      <td>['I', 'II', 'III', 'aVR', 'aVL', 'aVF', 'V1', ...</td>\n",
       "      <td>00:00:12</td>\n",
       "      <td>12</td>\n",
       "      <td>73.0</td>\n",
       "      <td>Male</td>\n",
       "      <td>['426783006']</td>\n",
       "      <td>1</td>\n",
       "      <td>12.000</td>\n",
       "    </tr>\n",
       "    <tr>\n",
       "      <th>88251</th>\n",
       "      <td>88251</td>\n",
       "      <td>A3120.hea</td>\n",
       "      <td>../all_data/WFDB_CPSC2018/A3120.hea</td>\n",
       "      <td>WFDB_CPSC2018</td>\n",
       "      <td>500</td>\n",
       "      <td>10000</td>\n",
       "      <td>['I', 'II', 'III', 'aVR', 'aVL', 'aVF', 'V1', ...</td>\n",
       "      <td>00:00:12</td>\n",
       "      <td>12</td>\n",
       "      <td>59.0</td>\n",
       "      <td>Female</td>\n",
       "      <td>['59118001']</td>\n",
       "      <td>1</td>\n",
       "      <td>20.000</td>\n",
       "    </tr>\n",
       "    <tr>\n",
       "      <th>88252</th>\n",
       "      <td>88252</td>\n",
       "      <td>A3862.hea</td>\n",
       "      <td>../all_data/WFDB_CPSC2018/A3862.hea</td>\n",
       "      <td>WFDB_CPSC2018</td>\n",
       "      <td>500</td>\n",
       "      <td>6500</td>\n",
       "      <td>['I', 'II', 'III', 'aVR', 'aVL', 'aVF', 'V1', ...</td>\n",
       "      <td>00:00:12</td>\n",
       "      <td>12</td>\n",
       "      <td>77.0</td>\n",
       "      <td>Female</td>\n",
       "      <td>['284470004']</td>\n",
       "      <td>1</td>\n",
       "      <td>13.000</td>\n",
       "    </tr>\n",
       "  </tbody>\n",
       "</table>\n",
       "<p>88253 rows × 14 columns</p>\n",
       "</div>"
      ],
      "text/plain": [
       "       Unnamed: 0     Filename                                 Path  \\\n",
       "0               0  HR18417.hea   ../all_data/WFDB_PTBXL/HR18417.hea   \n",
       "1               1  HR10623.hea   ../all_data/WFDB_PTBXL/HR10623.hea   \n",
       "2               2  HR12324.hea   ../all_data/WFDB_PTBXL/HR12324.hea   \n",
       "3               3  HR20066.hea   ../all_data/WFDB_PTBXL/HR20066.hea   \n",
       "4               4  HR06777.hea   ../all_data/WFDB_PTBXL/HR06777.hea   \n",
       "...           ...          ...                                  ...   \n",
       "88248       88248    A0779.hea  ../all_data/WFDB_CPSC2018/A0779.hea   \n",
       "88249       88249    A4607.hea  ../all_data/WFDB_CPSC2018/A4607.hea   \n",
       "88250       88250    A0648.hea  ../all_data/WFDB_CPSC2018/A0648.hea   \n",
       "88251       88251    A3120.hea  ../all_data/WFDB_CPSC2018/A3120.hea   \n",
       "88252       88252    A3862.hea  ../all_data/WFDB_CPSC2018/A3862.hea   \n",
       "\n",
       "             DataSet   Fs  Sig_len  \\\n",
       "0         WFDB_PTBXL  500     5000   \n",
       "1         WFDB_PTBXL  500     5000   \n",
       "2         WFDB_PTBXL  500     5000   \n",
       "3         WFDB_PTBXL  500     5000   \n",
       "4         WFDB_PTBXL  500     5000   \n",
       "...              ...  ...      ...   \n",
       "88248  WFDB_CPSC2018  500     5000   \n",
       "88249  WFDB_CPSC2018  500     6717   \n",
       "88250  WFDB_CPSC2018  500     6000   \n",
       "88251  WFDB_CPSC2018  500    10000   \n",
       "88252  WFDB_CPSC2018  500     6500   \n",
       "\n",
       "                                                Sig_name Base_time  Channels  \\\n",
       "0      ['I', 'II', 'III', 'aVR', 'aVL', 'aVF', 'V1', ...  00:00:04        12   \n",
       "1      ['I', 'II', 'III', 'aVR', 'aVL', 'aVF', 'V1', ...  00:00:04        12   \n",
       "2      ['I', 'II', 'III', 'aVR', 'aVL', 'aVF', 'V1', ...  00:00:04        12   \n",
       "3      ['I', 'II', 'III', 'aVR', 'aVL', 'aVF', 'V1', ...  00:00:04        12   \n",
       "4      ['I', 'II', 'III', 'aVR', 'aVL', 'aVF', 'V1', ...  00:00:04        12   \n",
       "...                                                  ...       ...       ...   \n",
       "88248  ['I', 'II', 'III', 'aVR', 'aVL', 'aVF', 'V1', ...  00:00:12        12   \n",
       "88249  ['I', 'II', 'III', 'aVR', 'aVL', 'aVF', 'V1', ...  00:00:12        12   \n",
       "88250  ['I', 'II', 'III', 'aVR', 'aVL', 'aVF', 'V1', ...  00:00:12        12   \n",
       "88251  ['I', 'II', 'III', 'aVR', 'aVL', 'aVF', 'V1', ...  00:00:12        12   \n",
       "88252  ['I', 'II', 'III', 'aVR', 'aVL', 'aVF', 'V1', ...  00:00:12        12   \n",
       "\n",
       "        Age  Gender                                                Dxs  N_Dxs  \\\n",
       "0      80.0    Male  ['39732003', '426783006', '713426002', '897920...      4   \n",
       "1      87.0  Female  ['164865005', '39732003', '426783006', '445118...      5   \n",
       "2      91.0  Female  ['164865005', '426783006', '428750005', '69825...      4   \n",
       "3      59.0    Male                                      ['426783006']      1   \n",
       "4      67.0    Male            ['164861001', '164873001', '426783006']      3   \n",
       "...     ...     ...                                                ...    ...   \n",
       "88248  60.0  Female                                       ['59118001']      1   \n",
       "88249  47.0    Male                                      ['284470004']      1   \n",
       "88250  73.0    Male                                      ['426783006']      1   \n",
       "88251  59.0  Female                                       ['59118001']      1   \n",
       "88252  77.0  Female                                      ['284470004']      1   \n",
       "\n",
       "       Time_lenght  \n",
       "0           10.000  \n",
       "1           10.000  \n",
       "2           10.000  \n",
       "3           10.000  \n",
       "4           10.000  \n",
       "...            ...  \n",
       "88248       10.000  \n",
       "88249       13.434  \n",
       "88250       12.000  \n",
       "88251       20.000  \n",
       "88252       13.000  \n",
       "\n",
       "[88253 rows x 14 columns]"
      ]
     },
     "execution_count": 30,
     "metadata": {},
     "output_type": "execute_result"
    }
   ],
   "source": [
    "df"
   ]
  },
  {
   "cell_type": "code",
   "execution_count": 18,
   "metadata": {},
   "outputs": [],
   "source": [
    "#pd.get_dummies(df.apply(pd.Series).stack()).sum(level=0)\n",
    "#pd.get_dummies(df['Dxs'].apply(pd.Series).stack()).sum(level=0)"
   ]
  },
  {
   "cell_type": "code",
   "execution_count": 36,
   "metadata": {},
   "outputs": [],
   "source": [
    "Dx='284470004,1'"
   ]
  },
  {
   "cell_type": "code",
   "execution_count": 37,
   "metadata": {},
   "outputs": [
    {
     "data": {
      "text/plain": [
       "'284470004,1'"
      ]
     },
     "execution_count": 37,
     "metadata": {},
     "output_type": "execute_result"
    }
   ],
   "source": [
    "Dx"
   ]
  },
  {
   "cell_type": "code",
   "execution_count": 41,
   "metadata": {},
   "outputs": [
    {
     "data": {
      "text/plain": [
       "str"
      ]
     },
     "execution_count": 41,
     "metadata": {},
     "output_type": "execute_result"
    }
   ],
   "source": [
    "record.__dict__['comments'][2].split(':')[1]"
   ]
  },
  {
   "cell_type": "code",
   "execution_count": null,
   "metadata": {},
   "outputs": [],
   "source": []
  }
 ],
 "metadata": {
  "interpreter": {
   "hash": "916dbcbb3f70747c44a77c7bcd40155683ae19c65e1c03b4aa3499c5328201f1"
  },
  "kernelspec": {
   "display_name": "Python 3 (ipykernel)",
   "language": "python",
   "name": "python3"
  },
  "language_info": {
   "codemirror_mode": {
    "name": "ipython",
    "version": 3
   },
   "file_extension": ".py",
   "mimetype": "text/x-python",
   "name": "python",
   "nbconvert_exporter": "python",
   "pygments_lexer": "ipython3",
   "version": "3.9.7"
  }
 },
 "nbformat": 4,
 "nbformat_minor": 2
}
