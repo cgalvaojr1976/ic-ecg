{
 "cells": [
  {
   "cell_type": "markdown",
   "id": "29f91ca8",
   "metadata": {},
   "source": [
    "Automatizar\n",
    "\n",
    "para vários códigos (Dx) [234324, 440007770, 098908890, 343534534, NSR]\n",
    "  limpar sinal com FIR\n",
    "      separar batimentos (SignFIR)\n",
    "  limpar sinal com DWT\n",
    "      separar batimentos (SignDWT)\n",
    "  separar batimentos sem pré-processamento\n",
    "                         (SignRAW)\n",
    "  separar dados treino, validação, teste\n",
    "  testar 30 vezes (usar sementes)\n",
    "    modelo CNN com SignFIR - CNN1, CNN2, CNN3,...,CNN30\n",
    "    modelo CNN com SignDWT - CNN1, CNN2, CNN3,...,CNN30\n",
    "    modelo CNN sem SignRAW - CNN1, CNN2, CNN3,...,CNN30\n",
    "    \n",
    "\n",
    "\n",
    "300 arquivos\n",
    "Dataset: 6000 batimentos\n",
    "4500 treino\n",
    "1500 valid\n",
    "\n",
    "50 arquivos pessoas diferentes\n",
    "teste: 1000 batimentos"
   ]
  }
 ],
 "metadata": {
  "kernelspec": {
   "display_name": "Python 3 (ipykernel)",
   "language": "python",
   "name": "python3"
  },
  "language_info": {
   "codemirror_mode": {
    "name": "ipython",
    "version": 3
   },
   "file_extension": ".py",
   "mimetype": "text/x-python",
   "name": "python",
   "nbconvert_exporter": "python",
   "pygments_lexer": "ipython3",
   "version": "3.9.7"
  }
 },
 "nbformat": 4,
 "nbformat_minor": 5
}
